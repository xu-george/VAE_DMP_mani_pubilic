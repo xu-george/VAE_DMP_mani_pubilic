{
 "cells": [
  {
   "cell_type": "markdown",
   "metadata": {},
   "source": [
    "# Test via point, and end point of grasping task in the pybullet working space"
   ]
  },
  {
   "cell_type": "code",
   "execution_count": 1,
   "metadata": {},
   "outputs": [
    {
     "name": "stdout",
     "output_type": "stream",
     "text": [
      "/home/binzhao/Documents/code/VAE_DMP_mani/manipulation_task\n",
      "cuda\n"
     ]
    }
   ],
   "source": [
    "import os, time, tqdm, sys\n",
    "import torch.nn as nn\n",
    "import numpy as np\n",
    "import torch\n",
    "\n",
    "# add parent dictionary to path\n",
    "parent_dir = os.path.abspath(os.path.join(os.getcwd(), '..'))\n",
    "sys.path.append(parent_dir)\n",
    "\n",
    "from models.vae import TrajGen, DM\n",
    "from models.dmp import CanonicalSystem, SingleDMP\n",
    "from utils.data_loader import TorqueLoader as Torque_dataset\n",
    "from utils.early_stop import EarlyStop\n",
    "from matplotlib import pyplot as plt\n",
    "from collections import OrderedDict\n",
    "print(os.getcwd())\n",
    "\n",
    "device = torch.device('cuda' if torch.cuda.is_available() else 'cpu')\n",
    "print(device)"
   ]
  },
  {
   "cell_type": "markdown",
   "metadata": {},
   "source": [
    "create cVAE-dmp model"
   ]
  },
  {
   "cell_type": "code",
   "execution_count": 2,
   "metadata": {},
   "outputs": [
    {
     "name": "stdout",
     "output_type": "stream",
     "text": [
      "device:  cuda\n"
     ]
    }
   ],
   "source": [
    "# create dmp model \n",
    "device = torch.device('cuda' if torch.cuda.is_available() else 'cpu')\n",
    "run_time = 1\n",
    "dt = 0.01\n",
    "# define the shape of each damonstration\n",
    "shape = (5, 100)\n",
    "# create dataset for training and testing\n",
    "cs = CanonicalSystem(dt=0.01, ax=1)\n",
    "dmp = SingleDMP(n_bfs=50, cs=cs, run_time=1.0, dt=0.01)\n",
    "print(\"device: \", device) "
   ]
  },
  {
   "cell_type": "code",
   "execution_count": 3,
   "metadata": {},
   "outputs": [
    {
     "name": "stdout",
     "output_type": "stream",
     "text": [
      "[ 9.639522 40.198143 65.1502   54.927094 89.87197 ] [-35.03298   -13.038735   -6.0426774  -4.746726  -25.30069  ]\n"
     ]
    }
   ],
   "source": [
    "# get max, min from dataset to de-normalize the data\n",
    "train_dataset = Torque_dataset(run_time=1, dmp=dmp, dt=0.01, dof=2)\n",
    "train_dataset.load_data('../data/manipulation_data/train_torque.npz', device=device)\n",
    "train_dataset.torque = train_dataset.normalize_data(device=device)\n",
    "\n",
    "#get normalize  paramters of data\n",
    "max = train_dataset.max.cpu().numpy()\n",
    "min = train_dataset.min.cpu().numpy()\n",
    "print(max, min)"
   ]
  },
  {
   "cell_type": "code",
   "execution_count": 4,
   "metadata": {},
   "outputs": [
    {
     "name": "stderr",
     "output_type": "stream",
     "text": [
      "/tmp/ipykernel_39084/3714809421.py:3: FutureWarning: You are using `torch.load` with `weights_only=False` (the current default value), which uses the default pickle module implicitly. It is possible to construct malicious pickle data which will execute arbitrary code during unpickling (See https://github.com/pytorch/pytorch/blob/main/SECURITY.md#untrusted-models for more details). In a future release, the default value for `weights_only` will be flipped to `True`. This limits the functions that could be executed during unpickling. Arbitrary objects will no longer be allowed to be loaded via this mode unless they are explicitly allowlisted by the user via `torch.serialization.add_safe_globals`. We recommend you start setting `weights_only=True` for any use case where you don't have full control of the loaded file. Please open an issue on GitHub for any issues related to this experimental feature.\n",
      "  checkpoint = torch.load(save_name, map_location=device)\n"
     ]
    }
   ],
   "source": [
    "# load pretrained model\n",
    "save_name = \"./models/cVAE_torque_manipulation.pt\"\n",
    "checkpoint = torch.load(save_name, map_location=device)\n",
    "dict = checkpoint['net']"
   ]
  },
  {
   "cell_type": "code",
   "execution_count": 5,
   "metadata": {},
   "outputs": [],
   "source": [
    "# load the decoder part only -- generator\n",
    "decoder_param = OrderedDict() \n",
    "    \n",
    "key_word_1 = {\"decoder.\"}\n",
    "key_word_2 = {\"label_embedding.\"}\n",
    "\n",
    "for layer_name, param in checkpoint[\"net\"].items():\n",
    "    for key_word in key_word_1:\n",
    "        if key_word in layer_name:            \n",
    "            layer_name = layer_name.replace(key_word, \"\")            \n",
    "            decoder_param[layer_name] = param\n",
    "\n",
    "torch.save(decoder_param, \"./models/decoder.pt\")\n",
    "\n",
    "# save label encoder\n",
    "label_encoder_param = OrderedDict()\n",
    "for layer_name, param in checkpoint[\"net\"].items():\n",
    "    for key_word in key_word_2:\n",
    "        if key_word in layer_name:            \n",
    "            layer_name = layer_name.replace(key_word, \"\")            \n",
    "            label_encoder_param[layer_name] = param\n",
    "\n",
    "torch.save(label_encoder_param, \"./models/label_encoder.pt\")"
   ]
  },
  {
   "cell_type": "code",
   "execution_count": 6,
   "metadata": {},
   "outputs": [
    {
     "name": "stderr",
     "output_type": "stream",
     "text": [
      "/tmp/ipykernel_39084/1204908132.py:10: FutureWarning: You are using `torch.load` with `weights_only=False` (the current default value), which uses the default pickle module implicitly. It is possible to construct malicious pickle data which will execute arbitrary code during unpickling (See https://github.com/pytorch/pytorch/blob/main/SECURITY.md#untrusted-models for more details). In a future release, the default value for `weights_only` will be flipped to `True`. This limits the functions that could be executed during unpickling. Arbitrary objects will no longer be allowed to be loaded via this mode unless they are explicitly allowlisted by the user via `torch.serialization.add_safe_globals`. We recommend you start setting `weights_only=True` for any use case where you don't have full control of the loaded file. Please open an issue on GitHub for any issues related to this experimental feature.\n",
      "  traj_gen.decoder_o.load_state_dict(torch.load('./models/decoder.pt'))\n",
      "/tmp/ipykernel_39084/1204908132.py:11: FutureWarning: You are using `torch.load` with `weights_only=False` (the current default value), which uses the default pickle module implicitly. It is possible to construct malicious pickle data which will execute arbitrary code during unpickling (See https://github.com/pytorch/pytorch/blob/main/SECURITY.md#untrusted-models for more details). In a future release, the default value for `weights_only` will be flipped to `True`. This limits the functions that could be executed during unpickling. Arbitrary objects will no longer be allowed to be loaded via this mode unless they are explicitly allowlisted by the user via `torch.serialization.add_safe_globals`. We recommend you start setting `weights_only=True` for any use case where you don't have full control of the loaded file. Please open an issue on GitHub for any issues related to this experimental feature.\n",
      "  traj_gen.decoder_n.load_state_dict(torch.load('./models/decoder.pt'))\n",
      "/tmp/ipykernel_39084/1204908132.py:12: FutureWarning: You are using `torch.load` with `weights_only=False` (the current default value), which uses the default pickle module implicitly. It is possible to construct malicious pickle data which will execute arbitrary code during unpickling (See https://github.com/pytorch/pytorch/blob/main/SECURITY.md#untrusted-models for more details). In a future release, the default value for `weights_only` will be flipped to `True`. This limits the functions that could be executed during unpickling. Arbitrary objects will no longer be allowed to be loaded via this mode unless they are explicitly allowlisted by the user via `torch.serialization.add_safe_globals`. We recommend you start setting `weights_only=True` for any use case where you don't have full control of the loaded file. Please open an issue on GitHub for any issues related to this experimental feature.\n",
      "  traj_gen.label_embedding.load_state_dict(torch.load('./models/label_encoder.pt'))\n"
     ]
    },
    {
     "data": {
      "text/plain": [
       "<All keys matched successfully>"
      ]
     },
     "execution_count": 6,
     "metadata": {},
     "output_type": "execute_result"
    }
   ],
   "source": [
    "# create trajectory generator -- decoder + dynamics system\n",
    "shape = (5, 100)\n",
    "nclass = 4\n",
    "nhid = 8\n",
    "ncond = 8\n",
    "\n",
    "# create trajectory generator\n",
    "traj_gen = TrajGen(shape=shape, nclass=nclass, nhid=nhid, ncond=ncond, min=min, max=max, device=device)\n",
    "# send to device\n",
    "traj_gen.decoder_o.load_state_dict(torch.load('./models/decoder.pt'))\n",
    "traj_gen.decoder_n.load_state_dict(torch.load('./models/decoder.pt'))\n",
    "traj_gen.label_embedding.load_state_dict(torch.load('./models/label_encoder.pt'))"
   ]
  },
  {
   "cell_type": "markdown",
   "metadata": {},
   "source": [
    "Create pybullet based environment and load demonstration data"
   ]
  },
  {
   "cell_type": "code",
   "execution_count": 7,
   "metadata": {},
   "outputs": [
    {
     "name": "stdout",
     "output_type": "stream",
     "text": [
      "Number of demonstrations:  3\n",
      "task_id_2 (33, 5)\n",
      "task_id_3 (35, 5)\n",
      "task_id_1 (19, 5)\n"
     ]
    }
   ],
   "source": [
    "robot_model_path = \"../manipulation_env/models/urdf/ur10_robotiq_85.urdf\"\n",
    "table_path = \"../manipulation_env/models/urdf/objects/table/table.urdf\"\n",
    "block_path = \"../manipulation_env/models/YcbPottedMeatCan/model.urdf\"\n",
    "\n",
    "demon_path = \"../data/manipulation_data\"\n",
    "\n",
    "# create dictionary to store the data\n",
    "demons_data = {}\n",
    "for file in os.listdir(demon_path):\n",
    "\n",
    "    if file.endswith(\".npy\"):\n",
    "        data = np.load(os.path.join(demon_path, file), allow_pickle=True)\n",
    "        task_id = int(file.split(\"_\")[0])\n",
    "        demons_data[\"task_id_\" + str(task_id)] = data\n",
    "print(\"Number of demonstrations: \", len(demons_data))  \n",
    "\n",
    "# show the structure of the data\n",
    "for key, value in demons_data.items():\n",
    "    print(key, value.shape)"
   ]
  },
  {
   "cell_type": "code",
   "execution_count": 8,
   "metadata": {},
   "outputs": [
    {
     "name": "stderr",
     "output_type": "stream",
     "text": [
      "pybullet build time: Nov 28 2023 23:51:11\n",
      "0it [00:00, ?it/s]"
     ]
    },
    {
     "name": "stdout",
     "output_type": "stream",
     "text": [
      "startThreads creating 1 threads.\n",
      "starting thread 0\n",
      "started thread 0 \n",
      "argc=2\n",
      "argv[0] = --unused\n",
      "argv[1] = --start_demo_name=Physics Server\n",
      "ExampleBrowserThreadFunc started\n",
      "X11 functions dynamically loaded using dlopen/dlsym OK!\n",
      "X11 functions dynamically loaded using dlopen/dlsym OK!\n",
      "Creating context\n",
      "Created GL 3.3 context\n",
      "Direct GLX rendering context obtained\n",
      "Making context current\n",
      "GL_VENDOR=Intel\n",
      "GL_RENDERER=Mesa Intel(R) Graphics (RPL-P)\n",
      "GL_VERSION=4.6 (Core Profile) Mesa 24.0.9-0ubuntu0.1\n",
      "GL_SHADING_LANGUAGE_VERSION=4.60\n",
      "pthread_getconcurrency()=0\n",
      "Version = 4.6 (Core Profile) Mesa 24.0.9-0ubuntu0.1\n",
      "Vendor = Intel\n",
      "Renderer = Mesa Intel(R) Graphics (RPL-P)\n",
      "b3Printf: Selected demo: Physics Server\n",
      "startThreads creating 1 threads.\n",
      "starting thread 0\n",
      "started thread 0 \n",
      "MotionThreadFunc thread started\n",
      "ven = Intel\n",
      "Workaround for some crash in the Intel OpenGL driver on Linux/Ubuntu\n",
      "ven = Intel\n",
      "Workaround for some crash in the Intel OpenGL driver on Linux/Ubuntu\n",
      "[jointInfo(id=0, name='world_arm_joint', type=4, damping=0.0, friction=0.0, lowerLimit=0.0, upperLimit=-1.0, maxForce=0.0, maxVelocity=0.0, controllable=False), jointInfo(id=1, name='robot_shoulder_pan_joint', type=0, damping=0.0, friction=0.0, lowerLimit=-6.28318530718, upperLimit=6.28318530718, maxForce=330.0, maxVelocity=2.16, controllable=True), jointInfo(id=2, name='robot_shoulder_lift_joint', type=0, damping=0.0, friction=0.0, lowerLimit=-6.28318530718, upperLimit=6.28318530718, maxForce=330.0, maxVelocity=2.16, controllable=True), jointInfo(id=3, name='robot_elbow_joint', type=0, damping=0.0, friction=0.0, lowerLimit=-3.14159265359, upperLimit=3.14159265359, maxForce=150.0, maxVelocity=3.15, controllable=True), jointInfo(id=4, name='robot_wrist_1_joint', type=0, damping=0.0, friction=0.0, lowerLimit=-6.28318530718, upperLimit=6.28318530718, maxForce=54.0, maxVelocity=3.2, controllable=True), jointInfo(id=5, name='robot_wrist_2_joint', type=0, damping=0.0, friction=0.0, lowerLimit=-6.28318530718, upperLimit=6.28318530718, maxForce=54.0, maxVelocity=3.2, controllable=True), jointInfo(id=6, name='robot_wrist_3_joint', type=0, damping=0.0, friction=0.0, lowerLimit=-6.28318530718, upperLimit=6.28318530718, maxForce=54.0, maxVelocity=3.2, controllable=True), jointInfo(id=7, name='robot_ee_fixed_joint', type=4, damping=0.0, friction=0.0, lowerLimit=0.0, upperLimit=-1.0, maxForce=0.0, maxVelocity=0.0, controllable=False), jointInfo(id=8, name='robotiq_85_base_joint', type=4, damping=0.0, friction=0.0, lowerLimit=0.0, upperLimit=-1.0, maxForce=0.0, maxVelocity=0.0, controllable=False), jointInfo(id=9, name='finger_joint', type=0, damping=0.0, friction=0.0, lowerLimit=0.0, upperLimit=0.8, maxForce=1000.0, maxVelocity=2.0, controllable=True), jointInfo(id=10, name='left_outer_finger_joint', type=4, damping=0.0, friction=0.0, lowerLimit=0.0, upperLimit=-1.0, maxForce=0.0, maxVelocity=0.0, controllable=False), jointInfo(id=11, name='left_inner_finger_joint', type=0, damping=0.0, friction=0.0, lowerLimit=-0.8757, upperLimit=0.0, maxForce=1000.0, maxVelocity=2.0, controllable=True), jointInfo(id=12, name='left_inner_finger_pad_joint', type=4, damping=0.0, friction=0.0, lowerLimit=0.0, upperLimit=-1.0, maxForce=0.0, maxVelocity=0.0, controllable=False), jointInfo(id=13, name='left_inner_knuckle_joint', type=0, damping=0.0, friction=0.0, lowerLimit=0.0, upperLimit=0.8757, maxForce=1000.0, maxVelocity=2.0, controllable=True), jointInfo(id=14, name='right_outer_knuckle_joint', type=0, damping=0.0, friction=0.0, lowerLimit=0.0, upperLimit=0.81, maxForce=1000.0, maxVelocity=2.0, controllable=True), jointInfo(id=15, name='right_outer_finger_joint', type=4, damping=0.0, friction=0.0, lowerLimit=0.0, upperLimit=-1.0, maxForce=0.0, maxVelocity=0.0, controllable=False), jointInfo(id=16, name='right_inner_finger_joint', type=0, damping=0.0, friction=0.0, lowerLimit=-0.8757, upperLimit=0.0, maxForce=1000.0, maxVelocity=2.0, controllable=True), jointInfo(id=17, name='right_inner_finger_pad_joint', type=4, damping=0.0, friction=0.0, lowerLimit=0.0, upperLimit=-1.0, maxForce=0.0, maxVelocity=0.0, controllable=False), jointInfo(id=18, name='right_inner_knuckle_joint', type=0, damping=0.0, friction=0.0, lowerLimit=0.0, upperLimit=0.8757, maxForce=1000.0, maxVelocity=2.0, controllable=True)]\n",
      "b3Printf: b3Warning[examples/Importers/ImportURDFDemo/BulletUrdfImporter.cpp,126]:\n",
      "\n",
      "b3Printf: No inertial data for link, using mass=1, localinertiadiagonal = 1,1,1, identity local inertial frame\n",
      "b3Printf: b3Warning[examples/Importers/ImportURDFDemo/BulletUrdfImporter.cpp,126]:\n",
      "\n",
      "b3Printf: robot_ee_link\n",
      "processing baseLink\n",
      "processing baseLink\n"
     ]
    },
    {
     "name": "stderr",
     "output_type": "stream",
     "text": [
      "1it [00:01,  1.71s/it]"
     ]
    }
   ],
   "source": [
    "# create pybullet environment\n",
    "from manipulation_env.env import ManiEnv\n",
    "from manipulation_env.robot import UR10Robotiq85\n",
    "robot = UR10Robotiq85(model_path=robot_model_path)\n",
    "env = ManiEnv(robot, block_path=block_path, table_path=table_path, vis=True)\n",
    "env.reset()"
   ]
  },
  {
   "cell_type": "markdown",
   "metadata": {},
   "source": [
    "Task 3: grasping task, test basic cVAE-dmp model, and end point fine-tuning"
   ]
  },
  {
   "cell_type": "code",
   "execution_count": 17,
   "metadata": {},
   "outputs": [],
   "source": [
    "# get the grasping trajectory\n",
    "env.clean_traj_plot()\n",
    "gripper_offset = 0.17\n",
    "grasping_demo = demons_data[\"task_id_3\"]\n",
    "block_position = np.array([0, 0, 0.04])\n",
    "\n",
    "# relay the trajectory\n",
    "position = grasping_demo[20]\n",
    "block_position[0] = position[0]\n",
    "block_position[1] = position[1]\n",
    "env.reset_block(pos = block_position, euler_angle=[0, 0, 0])\n",
    "\n",
    "# # draw the inital trajectory \n",
    "env.traj_plot(grasping_demo[:, :3], color=[0.96, 0, 0.63])"
   ]
  },
  {
   "cell_type": "code",
   "execution_count": 10,
   "metadata": {},
   "outputs": [],
   "source": [
    "# replay the grasping demo\n",
    "env.reset_block(pos = block_position, euler_angle=[0, 0, 0])\n",
    "# for i in range(grasping_demo.shape[0]):\n",
    "#     env.step(grasping_demo[i])\n",
    "#     time.sleep(0.01)\n",
    "\n",
    "# # reset \n",
    "# env.step(grasping_demo[0])\n",
    "# env.reset_block(pos = block_position, euler_angle=[0, 0, 0])"
   ]
  },
  {
   "cell_type": "code",
   "execution_count": 11,
   "metadata": {},
   "outputs": [
    {
     "name": "stderr",
     "output_type": "stream",
     "text": [
      "3486it [02:29,  6.95it/s] /home/binzhao/Documents/code/VAE_DMP_mani/models/vae.py:47: UserWarning: To copy construct from a tensor, it is recommended to use sourceTensor.clone().detach() or sourceTensor.clone().detach().requires_grad_(True), rather than torch.tensor(sourceTensor).\n",
      "  self.x = torch.tensor(x0).to(self.device)\n",
      "/home/binzhao/Documents/code/VAE_DMP_mani/models/vae.py:59: UserWarning: To copy construct from a tensor, it is recommended to use sourceTensor.clone().detach() or sourceTensor.clone().detach().requires_grad_(True), rather than torch.tensor(sourceTensor).\n",
      "  goal = torch.tensor(goal).to(self.device)\n"
     ]
    },
    {
     "name": "stdout",
     "output_type": "stream",
     "text": [
      "(5, 100)\n"
     ]
    },
    {
     "name": "stderr",
     "output_type": "stream",
     "text": [
      "14158it [03:18, 224.47it/s]"
     ]
    },
    {
     "name": "stdout",
     "output_type": "stream",
     "text": [
      "Trajectory:  0 Success:  True\n",
      "(5, 100)\n"
     ]
    },
    {
     "name": "stderr",
     "output_type": "stream",
     "text": [
      "24830it [04:07, 226.45it/s]"
     ]
    },
    {
     "name": "stdout",
     "output_type": "stream",
     "text": [
      "Trajectory:  1 Success:  True\n",
      "(5, 100)\n"
     ]
    },
    {
     "name": "stderr",
     "output_type": "stream",
     "text": [
      "36955it [05:03, 224.92it/s]"
     ]
    },
    {
     "name": "stdout",
     "output_type": "stream",
     "text": [
      "Trajectory:  2 Success:  False\n",
      "(5, 100)\n"
     ]
    },
    {
     "name": "stderr",
     "output_type": "stream",
     "text": [
      "47650it [05:52, 225.52it/s]"
     ]
    },
    {
     "name": "stdout",
     "output_type": "stream",
     "text": [
      "Trajectory:  3 Success:  True\n",
      "(5, 100)\n"
     ]
    },
    {
     "name": "stderr",
     "output_type": "stream",
     "text": [
      "58437it [06:42, 224.38it/s]"
     ]
    },
    {
     "name": "stdout",
     "output_type": "stream",
     "text": [
      "Trajectory:  4 Success:  True\n",
      "(5, 100)\n"
     ]
    },
    {
     "name": "stderr",
     "output_type": "stream",
     "text": [
      "69247it [07:31, 224.43it/s]"
     ]
    },
    {
     "name": "stdout",
     "output_type": "stream",
     "text": [
      "Trajectory:  5 Success:  True\n",
      "(5, 100)\n"
     ]
    },
    {
     "name": "stderr",
     "output_type": "stream",
     "text": [
      "79919it [08:20, 223.98it/s]"
     ]
    },
    {
     "name": "stdout",
     "output_type": "stream",
     "text": [
      "Trajectory:  6 Success:  True\n",
      "(5, 100)\n"
     ]
    },
    {
     "name": "stderr",
     "output_type": "stream",
     "text": [
      "90729it [09:10, 224.56it/s]"
     ]
    },
    {
     "name": "stdout",
     "output_type": "stream",
     "text": [
      "Trajectory:  7 Success:  True\n",
      "(5, 100)\n"
     ]
    },
    {
     "name": "stderr",
     "output_type": "stream",
     "text": [
      "101516it [09:58, 225.05it/s]"
     ]
    },
    {
     "name": "stdout",
     "output_type": "stream",
     "text": [
      "Trajectory:  8 Success:  True\n",
      "(5, 100)\n"
     ]
    },
    {
     "name": "stderr",
     "output_type": "stream",
     "text": [
      "112188it [10:47, 223.63it/s]"
     ]
    },
    {
     "name": "stdout",
     "output_type": "stream",
     "text": [
      "Trajectory:  9 Success:  True\n",
      "(5, 100)\n"
     ]
    },
    {
     "name": "stderr",
     "output_type": "stream",
     "text": [
      "122883it [11:35, 226.75it/s]"
     ]
    },
    {
     "name": "stdout",
     "output_type": "stream",
     "text": [
      "Trajectory:  10 Success:  True\n",
      "(5, 100)\n"
     ]
    },
    {
     "name": "stderr",
     "output_type": "stream",
     "text": [
      "133555it [12:24, 224.53it/s]"
     ]
    },
    {
     "name": "stdout",
     "output_type": "stream",
     "text": [
      "Trajectory:  11 Success:  True\n",
      "(5, 100)\n"
     ]
    },
    {
     "name": "stderr",
     "output_type": "stream",
     "text": [
      "144250it [13:12, 224.28it/s]"
     ]
    },
    {
     "name": "stdout",
     "output_type": "stream",
     "text": [
      "Trajectory:  12 Success:  True\n",
      "(5, 100)\n"
     ]
    },
    {
     "name": "stderr",
     "output_type": "stream",
     "text": [
      "155037it [14:01, 225.00it/s]"
     ]
    },
    {
     "name": "stdout",
     "output_type": "stream",
     "text": [
      "Trajectory:  13 Success:  True\n",
      "(5, 100)\n"
     ]
    },
    {
     "name": "stderr",
     "output_type": "stream",
     "text": [
      "165709it [14:50, 226.79it/s]"
     ]
    },
    {
     "name": "stdout",
     "output_type": "stream",
     "text": [
      "Trajectory:  14 Success:  True\n",
      "(5, 100)\n"
     ]
    },
    {
     "name": "stderr",
     "output_type": "stream",
     "text": [
      "176519it [15:39, 223.93it/s]"
     ]
    },
    {
     "name": "stdout",
     "output_type": "stream",
     "text": [
      "Trajectory:  15 Success:  True\n",
      "(5, 100)\n"
     ]
    },
    {
     "name": "stderr",
     "output_type": "stream",
     "text": [
      "187329it [16:28, 225.22it/s]"
     ]
    },
    {
     "name": "stdout",
     "output_type": "stream",
     "text": [
      "Trajectory:  16 Success:  True\n",
      "(5, 100)\n"
     ]
    },
    {
     "name": "stderr",
     "output_type": "stream",
     "text": [
      "198116it [17:17, 224.99it/s]"
     ]
    },
    {
     "name": "stdout",
     "output_type": "stream",
     "text": [
      "Trajectory:  17 Success:  True\n",
      "(5, 100)\n"
     ]
    },
    {
     "name": "stderr",
     "output_type": "stream",
     "text": [
      "208788it [18:06, 224.73it/s]"
     ]
    },
    {
     "name": "stdout",
     "output_type": "stream",
     "text": [
      "Trajectory:  18 Success:  True\n",
      "(5, 100)\n"
     ]
    },
    {
     "name": "stderr",
     "output_type": "stream",
     "text": [
      "219598it [18:55, 224.79it/s]"
     ]
    },
    {
     "name": "stdout",
     "output_type": "stream",
     "text": [
      "Trajectory:  19 Success:  True\n",
      "(5, 100)\n"
     ]
    },
    {
     "name": "stderr",
     "output_type": "stream",
     "text": [
      "230408it [19:44, 224.11it/s]"
     ]
    },
    {
     "name": "stdout",
     "output_type": "stream",
     "text": [
      "Trajectory:  20 Success:  True\n",
      "(5, 100)\n"
     ]
    },
    {
     "name": "stderr",
     "output_type": "stream",
     "text": [
      "242529it [20:38, 225.02it/s]"
     ]
    },
    {
     "name": "stdout",
     "output_type": "stream",
     "text": [
      "Trajectory:  21 Success:  False\n",
      "(5, 100)\n"
     ]
    },
    {
     "name": "stderr",
     "output_type": "stream",
     "text": [
      "253316it [21:27, 225.16it/s]"
     ]
    },
    {
     "name": "stdout",
     "output_type": "stream",
     "text": [
      "Trajectory:  22 Success:  True\n",
      "(5, 100)\n"
     ]
    },
    {
     "name": "stderr",
     "output_type": "stream",
     "text": [
      "263988it [22:16, 224.50it/s]"
     ]
    },
    {
     "name": "stdout",
     "output_type": "stream",
     "text": [
      "Trajectory:  23 Success:  True\n",
      "(5, 100)\n"
     ]
    },
    {
     "name": "stderr",
     "output_type": "stream",
     "text": [
      "274683it [23:04, 224.82it/s]"
     ]
    },
    {
     "name": "stdout",
     "output_type": "stream",
     "text": [
      "Trajectory:  24 Success:  True\n",
      "(5, 100)\n"
     ]
    },
    {
     "name": "stderr",
     "output_type": "stream",
     "text": [
      "285470it [23:53, 224.12it/s]"
     ]
    },
    {
     "name": "stdout",
     "output_type": "stream",
     "text": [
      "Trajectory:  25 Success:  True\n",
      "(5, 100)\n"
     ]
    },
    {
     "name": "stderr",
     "output_type": "stream",
     "text": [
      "296280it [24:42, 226.27it/s]"
     ]
    },
    {
     "name": "stdout",
     "output_type": "stream",
     "text": [
      "Trajectory:  26 Success:  True\n",
      "(5, 100)\n"
     ]
    },
    {
     "name": "stderr",
     "output_type": "stream",
     "text": [
      "306952it [25:30, 225.71it/s]"
     ]
    },
    {
     "name": "stdout",
     "output_type": "stream",
     "text": [
      "Trajectory:  27 Success:  True\n",
      "(5, 100)\n"
     ]
    },
    {
     "name": "stderr",
     "output_type": "stream",
     "text": [
      "317631it [26:18, 226.78it/s]"
     ]
    },
    {
     "name": "stdout",
     "output_type": "stream",
     "text": [
      "Trajectory:  28 Success:  True\n",
      "(5, 100)\n"
     ]
    },
    {
     "name": "stderr",
     "output_type": "stream",
     "text": [
      "329650it [27:12, 226.56it/s]"
     ]
    },
    {
     "name": "stdout",
     "output_type": "stream",
     "text": [
      "Trajectory:  29 Success:  True\n"
     ]
    },
    {
     "name": "stderr",
     "output_type": "stream",
     "text": [
      "329650it [27:30, 226.56it/s]"
     ]
    }
   ],
   "source": [
    "# random put the block position and orientation\n",
    "robot_initial_pose = grasping_demo[0]\n",
    "robot_end_pose = grasping_demo[-1]\n",
    "\n",
    "block_position = np.array([0, 0, 0.04])\n",
    "env.clean_traj_plot()\n",
    "env.step(robot_initial_pose)\n",
    "\n",
    "tractories = []\n",
    "# random put the block and collect the trajectory\n",
    "for num_traj in range(30): \n",
    "\n",
    "    random_x = np.random.rand() * 0.3 + 0.5\n",
    "    random_y = (np.random.rand() - 0.5) * 0.8\n",
    "    block_position[0] = random_x\n",
    "    block_position[1] = random_y\n",
    "    block_orien = np.random.rand() * np.pi/2\n",
    "\n",
    "    # set the final position of the robot\n",
    "    env.reset_block(pos = block_position, euler_angle=[0, 0, block_orien])\n",
    "    \n",
    "    # get the grasping state\n",
    "    block_pos_sim = env.get_block_position()\n",
    "    grasp_point = block_pos_sim + np.array([0, 0, gripper_offset])\n",
    "    robot_end_pose[:3] = grasp_point\n",
    "    robot_end_pose[3] = block_orien\n",
    "    robot_end_pose[4] = 0.55\n",
    "\n",
    "    # get the trajectory\n",
    "    torch_robot_inial_pose = torch.tensor(robot_initial_pose, dtype=torch.float32).to(device)\n",
    "    torch_robot_end_pose = torch.tensor(robot_end_pose, dtype=torch.float32).to(device)\n",
    "\n",
    "    with torch.no_grad():\n",
    "        traj = traj_gen(class_idx=3, x0=torch_robot_inial_pose, goal=torch_robot_end_pose)\n",
    "    \n",
    "    # convert to numpy\n",
    "    traj = traj.cpu().numpy()[0]\n",
    "    print(traj.shape)\n",
    "\n",
    "    # plot the trajectory\n",
    "    env.traj_plot(traj[:3,:].T)\n",
    "\n",
    "    # check if touch the block\n",
    "    success = False\n",
    "    env.step(robot_initial_pose)\n",
    "    for i in range(traj.shape[1]):\n",
    "        env.step(traj[:, i])\n",
    "        if env.check_grasping():\n",
    "            success = True\n",
    "            break\n",
    "    \n",
    "    # store the trajectory\n",
    "    tractories.append({\"traj\":traj, \"success\":success, \"block_pose\":block_pos_sim, block_orien:block_orien})  \n",
    "    print(\"Trajectory: \", num_traj, \"Success: \", success)  "
   ]
  },
  {
   "cell_type": "markdown",
   "metadata": {},
   "source": [
    "Generate an initial trajectory"
   ]
  },
  {
   "cell_type": "code",
   "execution_count": 13,
   "metadata": {},
   "outputs": [
    {
     "name": "stdout",
     "output_type": "stream",
     "text": [
      "Success rate:  0.9333333333333333\n"
     ]
    },
    {
     "data": {
      "text/plain": [
       "<matplotlib.collections.PathCollection at 0x74f021539340>"
      ]
     },
     "execution_count": 13,
     "metadata": {},
     "output_type": "execute_result"
    },
    {
     "data": {
      "image/png": "[encoded data removed]",
      "text/plain": [
       "<Figure size 640x480 with 1 Axes>"
      ]
     },
     "metadata": {},
     "output_type": "display_data"
    }
   ],
   "source": [
    "# save the data\n",
    "np.savez(\"grasping_trajecotries.npz\", tractories=tractories)\n",
    "\n",
    "# print the success in the pushing\n",
    "success = 0\n",
    "for traj in tractories:\n",
    "    if traj[\"success\"]:\n",
    "        success += 1\n",
    "print(\"Success rate: \", success/len(tractories))\n",
    "\n",
    "# matplt plot the block position\n",
    "block_pos = []\n",
    "for traj in tractories:\n",
    "    block_pos.append(traj[\"block_pose\"])\n",
    "block_pos = np.array(block_pos)\n",
    "plt.scatter(block_pos[:,0], block_pos[:,1])"
   ]
  }
 ],
 "metadata": {
  "kernelspec": {
   "display_name": "robot_env",
   "language": "python",
   "name": "python3"
  },
  "language_info": {
   "codemirror_mode": {
    "name": "ipython",
    "version": 3
   },
   "file_extension": ".py",
   "mimetype": "text/x-python",
   "name": "python",
   "nbconvert_exporter": "python",
   "pygments_lexer": "ipython3",
   "version": "3.8.19"
  }
 },
 "nbformat": 4,
 "nbformat_minor": 2
}
