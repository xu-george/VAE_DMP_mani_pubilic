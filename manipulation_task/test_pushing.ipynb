{
 "cells": [
  {
   "cell_type": "markdown",
   "metadata": {},
   "source": [
    "# Test via point, and end point for the pushing task in the pybullet working space"
   ]
  },
  {
   "cell_type": "code",
   "execution_count": 1,
   "metadata": {},
   "outputs": [
    {
     "name": "stdout",
     "output_type": "stream",
     "text": [
      "/home/binzhao/Documents/code/VAE_DMP_mani/manipulation_task\n",
      "cuda\n"
     ]
    }
   ],
   "source": [
    "import os, time, tqdm, sys\n",
    "import torch.nn as nn\n",
    "import numpy as np\n",
    "import torch\n",
    "\n",
    "# add parent dictionary to path\n",
    "parent_dir = os.path.abspath(os.path.join(os.getcwd(), '..'))\n",
    "sys.path.append(parent_dir)\n",
    "\n",
    "from models.vae import TrajGen, DM\n",
    "from models.dmp import CanonicalSystem, SingleDMP\n",
    "from utils.data_loader import TorqueLoader as Torque_dataset\n",
    "from utils.early_stop import EarlyStop\n",
    "from matplotlib import pyplot as plt\n",
    "from collections import OrderedDict\n",
    "print(os.getcwd())\n",
    "\n",
    "device = torch.device('cuda' if torch.cuda.is_available() else 'cpu')\n",
    "print(device)"
   ]
  },
  {
   "cell_type": "markdown",
   "metadata": {},
   "source": [
    "create cVAE-dmp model"
   ]
  },
  {
   "cell_type": "code",
   "execution_count": 2,
   "metadata": {},
   "outputs": [
    {
     "name": "stdout",
     "output_type": "stream",
     "text": [
      "device:  cuda\n"
     ]
    }
   ],
   "source": [
    "# create dmp model \n",
    "device = torch.device('cuda' if torch.cuda.is_available() else 'cpu')\n",
    "run_time = 1\n",
    "dt = 0.01\n",
    "# define the shape of each damonstration\n",
    "shape = (5, 100)\n",
    "# create dataset for training and testing\n",
    "cs = CanonicalSystem(dt=0.01, ax=1)\n",
    "dmp = SingleDMP(n_bfs=50, cs=cs, run_time=1.0, dt=0.01)\n",
    "print(\"device: \", device) "
   ]
  },
  {
   "cell_type": "code",
   "execution_count": 3,
   "metadata": {},
   "outputs": [
    {
     "name": "stdout",
     "output_type": "stream",
     "text": [
      "[ 9.639522 40.198143 65.1502   54.927094 89.87197 ] [-35.03298   -13.038735   -6.0426774  -4.746726  -25.30069  ]\n"
     ]
    }
   ],
   "source": [
    "# get max, min from dataset to de-normalize the data\n",
    "train_dataset = Torque_dataset(run_time=1, dmp=dmp, dt=0.01, dof=2)\n",
    "train_dataset.load_data('../data/manipulation_data/train_torque.npz', device=device)\n",
    "train_dataset.torque = train_dataset.normalize_data(device=device)\n",
    "\n",
    "#get normalize  paramters of data\n",
    "max = train_dataset.max.cpu().numpy()\n",
    "min = train_dataset.min.cpu().numpy()\n",
    "print(max, min)"
   ]
  },
  {
   "cell_type": "code",
   "execution_count": 4,
   "metadata": {},
   "outputs": [
    {
     "name": "stderr",
     "output_type": "stream",
     "text": [
      "/tmp/ipykernel_5650/3714809421.py:3: FutureWarning: You are using `torch.load` with `weights_only=False` (the current default value), which uses the default pickle module implicitly. It is possible to construct malicious pickle data which will execute arbitrary code during unpickling (See https://github.com/pytorch/pytorch/blob/main/SECURITY.md#untrusted-models for more details). In a future release, the default value for `weights_only` will be flipped to `True`. This limits the functions that could be executed during unpickling. Arbitrary objects will no longer be allowed to be loaded via this mode unless they are explicitly allowlisted by the user via `torch.serialization.add_safe_globals`. We recommend you start setting `weights_only=True` for any use case where you don't have full control of the loaded file. Please open an issue on GitHub for any issues related to this experimental feature.\n",
      "  checkpoint = torch.load(save_name, map_location=device)\n"
     ]
    }
   ],
   "source": [
    "# load pretrained model\n",
    "save_name = \"./models/cVAE_torque_manipulation.pt\"\n",
    "checkpoint = torch.load(save_name, map_location=device)\n",
    "dict = checkpoint['net']"
   ]
  },
  {
   "cell_type": "code",
   "execution_count": 5,
   "metadata": {},
   "outputs": [],
   "source": [
    "# load the decoder part only -- generator, label_embedding\n",
    "decoder_param = OrderedDict() \n",
    "    \n",
    "key_word_1 = {\"decoder.\"}\n",
    "key_word_2 = {\"label_embedding.\"}\n",
    "\n",
    "for layer_name, param in checkpoint[\"net\"].items():\n",
    "    for key_word in key_word_1:\n",
    "        if key_word in layer_name:            \n",
    "            layer_name = layer_name.replace(key_word, \"\")            \n",
    "            decoder_param[layer_name] = param\n",
    "\n",
    "torch.save(decoder_param, \"./models/decoder.pt\")\n",
    "\n",
    "# save label encoder\n",
    "label_encoder_param = OrderedDict()\n",
    "for layer_name, param in checkpoint[\"net\"].items():\n",
    "    for key_word in key_word_2:\n",
    "        if key_word in layer_name:            \n",
    "            layer_name = layer_name.replace(key_word, \"\")            \n",
    "            label_encoder_param[layer_name] = param\n",
    "\n",
    "torch.save(label_encoder_param, \"./models/label_encoder.pt\")"
   ]
  },
  {
   "cell_type": "code",
   "execution_count": 6,
   "metadata": {},
   "outputs": [
    {
     "name": "stderr",
     "output_type": "stream",
     "text": [
      "/tmp/ipykernel_5650/1204908132.py:10: FutureWarning: You are using `torch.load` with `weights_only=False` (the current default value), which uses the default pickle module implicitly. It is possible to construct malicious pickle data which will execute arbitrary code during unpickling (See https://github.com/pytorch/pytorch/blob/main/SECURITY.md#untrusted-models for more details). In a future release, the default value for `weights_only` will be flipped to `True`. This limits the functions that could be executed during unpickling. Arbitrary objects will no longer be allowed to be loaded via this mode unless they are explicitly allowlisted by the user via `torch.serialization.add_safe_globals`. We recommend you start setting `weights_only=True` for any use case where you don't have full control of the loaded file. Please open an issue on GitHub for any issues related to this experimental feature.\n",
      "  traj_gen.decoder_o.load_state_dict(torch.load('./models/decoder.pt'))\n",
      "/tmp/ipykernel_5650/1204908132.py:11: FutureWarning: You are using `torch.load` with `weights_only=False` (the current default value), which uses the default pickle module implicitly. It is possible to construct malicious pickle data which will execute arbitrary code during unpickling (See https://github.com/pytorch/pytorch/blob/main/SECURITY.md#untrusted-models for more details). In a future release, the default value for `weights_only` will be flipped to `True`. This limits the functions that could be executed during unpickling. Arbitrary objects will no longer be allowed to be loaded via this mode unless they are explicitly allowlisted by the user via `torch.serialization.add_safe_globals`. We recommend you start setting `weights_only=True` for any use case where you don't have full control of the loaded file. Please open an issue on GitHub for any issues related to this experimental feature.\n",
      "  traj_gen.decoder_n.load_state_dict(torch.load('./models/decoder.pt'))\n",
      "/tmp/ipykernel_5650/1204908132.py:12: FutureWarning: You are using `torch.load` with `weights_only=False` (the current default value), which uses the default pickle module implicitly. It is possible to construct malicious pickle data which will execute arbitrary code during unpickling (See https://github.com/pytorch/pytorch/blob/main/SECURITY.md#untrusted-models for more details). In a future release, the default value for `weights_only` will be flipped to `True`. This limits the functions that could be executed during unpickling. Arbitrary objects will no longer be allowed to be loaded via this mode unless they are explicitly allowlisted by the user via `torch.serialization.add_safe_globals`. We recommend you start setting `weights_only=True` for any use case where you don't have full control of the loaded file. Please open an issue on GitHub for any issues related to this experimental feature.\n",
      "  traj_gen.label_embedding.load_state_dict(torch.load('./models/label_encoder.pt'))\n"
     ]
    },
    {
     "data": {
      "text/plain": [
       "<All keys matched successfully>"
      ]
     },
     "execution_count": 6,
     "metadata": {},
     "output_type": "execute_result"
    }
   ],
   "source": [
    "# create trajectory generator -- decoder + dynamics system\n",
    "shape = (5, 100)\n",
    "nclass = 4\n",
    "nhid = 8\n",
    "ncond = 8\n",
    "\n",
    "# create trajectory generator\n",
    "traj_gen = TrajGen(shape=shape, nclass=nclass, nhid=nhid, ncond=ncond, min=min, max=max, device=device)\n",
    "# send to device\n",
    "traj_gen.decoder_o.load_state_dict(torch.load('./models/decoder.pt'))\n",
    "traj_gen.decoder_n.load_state_dict(torch.load('./models/decoder.pt'))\n",
    "traj_gen.label_embedding.load_state_dict(torch.load('./models/label_encoder.pt'))"
   ]
  },
  {
   "cell_type": "markdown",
   "metadata": {},
   "source": [
    "Create pybullet based environment and load demonstration data"
   ]
  },
  {
   "cell_type": "code",
   "execution_count": 7,
   "metadata": {},
   "outputs": [
    {
     "name": "stdout",
     "output_type": "stream",
     "text": [
      "Number of demonstrations:  3\n",
      "task_id_2 (33, 5)\n",
      "task_id_3 (27, 5)\n",
      "task_id_1 (19, 5)\n"
     ]
    }
   ],
   "source": [
    "robot_model_path = \"../manipulation_env/models/urdf/ur10_robotiq_85.urdf\"\n",
    "table_path = \"../manipulation_env/models/urdf/objects/table/table.urdf\"\n",
    "block_path = \"../manipulation_env/models/YcbPottedMeatCan/model.urdf\"\n",
    "\n",
    "demon_path = \"../data/manipulation_data\"\n",
    "\n",
    "# create dictionary to store the data\n",
    "demons_data = {}\n",
    "for file in os.listdir(demon_path):\n",
    "\n",
    "    if file.endswith(\".npy\"):\n",
    "        data = np.load(os.path.join(demon_path, file), allow_pickle=True)\n",
    "        task_id = int(file.split(\"_\")[0])\n",
    "        demons_data[\"task_id_\" + str(task_id)] = data\n",
    "print(\"Number of demonstrations: \", len(demons_data))  \n",
    "\n",
    "# show the structure of the data\n",
    "for key, value in demons_data.items():\n",
    "    print(key, value.shape)"
   ]
  },
  {
   "cell_type": "code",
   "execution_count": 8,
   "metadata": {},
   "outputs": [
    {
     "name": "stderr",
     "output_type": "stream",
     "text": [
      "pybullet build time: Nov 28 2023 23:51:11\n",
      "0it [00:00, ?it/s]"
     ]
    },
    {
     "name": "stdout",
     "output_type": "stream",
     "text": [
      "startThreads creating 1 threads.\n",
      "starting thread 0\n",
      "started thread 0 \n",
      "argc=2\n",
      "argv[0] = --unused\n",
      "argv[1] = --start_demo_name=Physics Server\n",
      "ExampleBrowserThreadFunc started\n",
      "X11 functions dynamically loaded using dlopen/dlsym OK!\n",
      "X11 functions dynamically loaded using dlopen/dlsym OK!\n",
      "Creating context\n",
      "Created GL 3.3 context\n",
      "Direct GLX rendering context obtained\n",
      "Making context current\n",
      "GL_VENDOR=Intel\n",
      "GL_RENDERER=Mesa Intel(R) Graphics (RPL-P)\n",
      "GL_VERSION=4.6 (Core Profile) Mesa 24.0.9-0ubuntu0.1\n",
      "GL_SHADING_LANGUAGE_VERSION=4.60\n",
      "pthread_getconcurrency()=0\n",
      "Version = 4.6 (Core Profile) Mesa 24.0.9-0ubuntu0.1\n",
      "Vendor = Intel\n",
      "Renderer = Mesa Intel(R) Graphics (RPL-P)\n",
      "b3Printf: Selected demo: Physics Server\n",
      "startThreads creating 1 threads.\n",
      "starting thread 0\n",
      "started thread 0 \n",
      "MotionThreadFunc thread started\n",
      "ven = Intel\n",
      "Workaround for some crash in the Intel OpenGL driver on Linux/Ubuntu\n",
      "ven = Intel\n",
      "Workaround for some crash in the Intel OpenGL driver on Linux/Ubuntu\n",
      "b3Printf: b3Warning[examples/Importers/ImportURDFDemo/BulletUrdfImporter.cpp,126]:\n",
      "\n",
      "b3Printf: No inertial data for link, using mass=1, localinertiadiagonal = 1,1,1, identity local inertial frame\n",
      "b3Printf: b3Warning[examples/Importers/ImportURDFDemo/BulletUrdfImporter.cpp,126]:\n",
      "\n",
      "b3Printf: robot_ee_link\n",
      "[jointInfo(id=0, name='world_arm_joint', type=4, damping=0.0, friction=0.0, lowerLimit=0.0, upperLimit=-1.0, maxForce=0.0, maxVelocity=0.0, controllable=False), jointInfo(id=1, name='robot_shoulder_pan_joint', type=0, damping=0.0, friction=0.0, lowerLimit=-6.28318530718, upperLimit=6.28318530718, maxForce=330.0, maxVelocity=2.16, controllable=True), jointInfo(id=2, name='robot_shoulder_lift_joint', type=0, damping=0.0, friction=0.0, lowerLimit=-6.28318530718, upperLimit=6.28318530718, maxForce=330.0, maxVelocity=2.16, controllable=True), jointInfo(id=3, name='robot_elbow_joint', type=0, damping=0.0, friction=0.0, lowerLimit=-3.14159265359, upperLimit=3.14159265359, maxForce=150.0, maxVelocity=3.15, controllable=True), jointInfo(id=4, name='robot_wrist_1_joint', type=0, damping=0.0, friction=0.0, lowerLimit=-6.28318530718, upperLimit=6.28318530718, maxForce=54.0, maxVelocity=3.2, controllable=True), jointInfo(id=5, name='robot_wrist_2_joint', type=0, damping=0.0, friction=0.0, lowerLimit=-6.28318530718, upperLimit=6.28318530718, maxForce=54.0, maxVelocity=3.2, controllable=True), jointInfo(id=6, name='robot_wrist_3_joint', type=0, damping=0.0, friction=0.0, lowerLimit=-6.28318530718, upperLimit=6.28318530718, maxForce=54.0, maxVelocity=3.2, controllable=True), jointInfo(id=7, name='robot_ee_fixed_joint', type=4, damping=0.0, friction=0.0, lowerLimit=0.0, upperLimit=-1.0, maxForce=0.0, maxVelocity=0.0, controllable=False), jointInfo(id=8, name='robotiq_85_base_joint', type=4, damping=0.0, friction=0.0, lowerLimit=0.0, upperLimit=-1.0, maxForce=0.0, maxVelocity=0.0, controllable=False), jointInfo(id=9, name='finger_joint', type=0, damping=0.0, friction=0.0, lowerLimit=0.0, upperLimit=0.8, maxForce=1000.0, maxVelocity=2.0, controllable=True), jointInfo(id=10, name='left_outer_finger_joint', type=4, damping=0.0, friction=0.0, lowerLimit=0.0, upperLimit=-1.0, maxForce=0.0, maxVelocity=0.0, controllable=False), jointInfo(id=11, name='left_inner_finger_joint', type=0, damping=0.0, friction=0.0, lowerLimit=-0.8757, upperLimit=0.0, maxForce=1000.0, maxVelocity=2.0, controllable=True), jointInfo(id=12, name='left_inner_finger_pad_joint', type=4, damping=0.0, friction=0.0, lowerLimit=0.0, upperLimit=-1.0, maxForce=0.0, maxVelocity=0.0, controllable=False), jointInfo(id=13, name='left_inner_knuckle_joint', type=0, damping=0.0, friction=0.0, lowerLimit=0.0, upperLimit=0.8757, maxForce=1000.0, maxVelocity=2.0, controllable=True), jointInfo(id=14, name='right_outer_knuckle_joint', type=0, damping=0.0, friction=0.0, lowerLimit=0.0, upperLimit=0.81, maxForce=1000.0, maxVelocity=2.0, controllable=True), jointInfo(id=15, name='right_outer_finger_joint', type=4, damping=0.0, friction=0.0, lowerLimit=0.0, upperLimit=-1.0, maxForce=0.0, maxVelocity=0.0, controllable=False), jointInfo(id=16, name='right_inner_finger_joint', type=0, damping=0.0, friction=0.0, lowerLimit=-0.8757, upperLimit=0.0, maxForce=1000.0, maxVelocity=2.0, controllable=True), jointInfo(id=17, name='right_inner_finger_pad_joint', type=4, damping=0.0, friction=0.0, lowerLimit=0.0, upperLimit=-1.0, maxForce=0.0, maxVelocity=0.0, controllable=False), jointInfo(id=18, name='right_inner_knuckle_joint', type=0, damping=0.0, friction=0.0, lowerLimit=0.0, upperLimit=0.8757, maxForce=1000.0, maxVelocity=2.0, controllable=True)]\n"
     ]
    },
    {
     "name": "stderr",
     "output_type": "stream",
     "text": [
      "1it [00:01,  1.68s/it]"
     ]
    },
    {
     "name": "stdout",
     "output_type": "stream",
     "text": [
      "processing baseLink\n",
      "processing baseLink\n"
     ]
    }
   ],
   "source": [
    "# create pybullet environment\n",
    "from manipulation_env.env import ManiEnv\n",
    "from manipulation_env.robot import UR10Robotiq85\n",
    "robot = UR10Robotiq85(model_path=robot_model_path)\n",
    "env = ManiEnv(robot, block_path=block_path, table_path=table_path, vis=True)\n",
    "env.reset()"
   ]
  },
  {
   "cell_type": "markdown",
   "metadata": {},
   "source": [
    "Task 2: pushing the block along the x axis:\n",
    "\n",
    "block position: (x, y, 0.04)\n",
    "\n",
    "via point: (x - 0.01, y, 0.04 + 0.17) # the gripper offset is 0.17"
   ]
  },
  {
   "cell_type": "code",
   "execution_count": 9,
   "metadata": {},
   "outputs": [
    {
     "name": "stdout",
     "output_type": "stream",
     "text": [
      "shape of push demo (33, 5)\n",
      "via-point: [ 0.46818409  0.02854814  0.22940795 -0.14041385  0.61333333]\n",
      "block position [0.56818409 0.02854814 0.04      ]\n"
     ]
    }
   ],
   "source": [
    "# get the pushing trajectory\n",
    "gripper_offset = 0.17\n",
    "push_demo = demons_data[\"task_id_2\"]\n",
    "block_position = np.array([0, 0, 0.04])\n",
    "\n",
    "# relay the demon trajectory\n",
    "position = push_demo[20]\n",
    "block_position[0] = position[0] + 0.1\n",
    "block_position[1] = position[1]\n",
    "env.reset_block(pos = block_position, euler_angle=[0, 0, np.pi/2])\n",
    "print(\"shape of push demo\", push_demo.shape)\n",
    "\n",
    "print(\"via-point:\", push_demo[20])\n",
    "print(\"block position\", block_position)"
   ]
  },
  {
   "cell_type": "markdown",
   "metadata": {},
   "source": [
    "Generate an initial trajectory"
   ]
  },
  {
   "cell_type": "code",
   "execution_count": 10,
   "metadata": {},
   "outputs": [
    {
     "name": "stderr",
     "output_type": "stream",
     "text": [
      "/home/binzhao/Documents/code/VAE_DMP_mani/models/vae.py:47: UserWarning: To copy construct from a tensor, it is recommended to use sourceTensor.clone().detach() or sourceTensor.clone().detach().requires_grad_(True), rather than torch.tensor(sourceTensor).\n",
      "  self.x = torch.tensor(x0).to(self.device)\n",
      "/home/binzhao/Documents/code/VAE_DMP_mani/models/vae.py:59: UserWarning: To copy construct from a tensor, it is recommended to use sourceTensor.clone().detach() or sourceTensor.clone().detach().requires_grad_(True), rather than torch.tensor(sourceTensor).\n",
      "  goal = torch.tensor(goal).to(self.device)\n"
     ]
    },
    {
     "name": "stdout",
     "output_type": "stream",
     "text": [
      "(5, 100)\n"
     ]
    }
   ],
   "source": [
    "# generate trajectory from cVAE-dmp with the original end position\n",
    "robot_inial_pose = push_demo[0]\n",
    "robot_end_pose = push_demo[-1]\n",
    "robot_end_pose[2] = robot_end_pose[2] - 0.03\n",
    "\n",
    "robot_inial_pose = torch.tensor(robot_inial_pose, dtype=torch.float32).to(device)\n",
    "robot_end_pose = torch.tensor(robot_end_pose, dtype=torch.float32).to(device)\n",
    "traj_gen.eval()\n",
    "with torch.no_grad():\n",
    "    push_traj = traj_gen(class_idx=2, x0=robot_inial_pose, goal=robot_end_pose)\n",
    "\n",
    "# print the generated trajectory\n",
    "initial_push = push_traj.cpu().numpy()[0]\n",
    "\n",
    "# show shape of the trajectory\n",
    "print(initial_push.shape)\n",
    "env.clean_traj_plot()\n",
    "env.traj_plot(initial_push[:3,:].T, color=[1, 0, 0])"
   ]
  },
  {
   "cell_type": "code",
   "execution_count": 11,
   "metadata": {},
   "outputs": [
    {
     "name": "stdout",
     "output_type": "stream",
     "text": [
      "end position: [ 0.67414325  0.07851585  0.18232429 -0.16922149  0.6146845 ]\n",
      "block position: [0.56818409 0.02854814 0.04      ]\n",
      "via-point: [0.5539152  0.05896169 0.51353276 0.06978191 0.61431736]\n"
     ]
    }
   ],
   "source": [
    "# print the end position, block position, and via-point\n",
    "print(\"end position:\", initial_push[:,-1])\n",
    "print(\"block position:\", block_position)\n",
    "print(\"via-point:\", initial_push[:,20])"
   ]
  },
  {
   "cell_type": "code",
   "execution_count": null,
   "metadata": {},
   "outputs": [],
   "source": [
    "# execute the pushing trajectory\n",
    "env.reset_block(pos = block_position, euler_angle=[0, 0, np.pi/2])\n",
    "env.step(initial_push[:,0])\n",
    "for i in range(initial_push.shape[1]):\n",
    "    env.step(initial_push[:,i])\n",
    "\n",
    "# get block position after pushing\n",
    "new_block_position = env.get_block_position()\n",
    "push_dist = new_block_position[0] - block_position[0]\n",
    "print(\"push distance: \", push_dist)\n",
    "\n",
    "env.clean_traj_plot()\n",
    "# reset the position of robot\n",
    "env.reset_block(pos = block_position, euler_angle=[0, 0, np.pi/2])\n",
    "env.step(push_demo[0])"
   ]
  },
  {
   "cell_type": "markdown",
   "metadata": {},
   "source": [
    "the robot manipulation space:\n",
    "- x: [0.3, 0.8]\n",
    "- y: [-0.45, 0.45]"
   ]
  },
  {
   "cell_type": "code",
   "execution_count": 12,
   "metadata": {},
   "outputs": [],
   "source": [
    "# define block position to via point mapping\n",
    "def get_final_point(block_position):\n",
    "    gripper_offset = 0.17\n",
    "    final_point = np.zeros(5)\n",
    "    final_point[0] = block_position[0] + 0.12 - 0.0369 # the block width\n",
    "    final_point[1] = block_position[1]\n",
    "    final_point[2] = block_position[2] + gripper_offset - 0.03 # the offset gripper length\n",
    "    final_point[3] = 0\n",
    "    final_point[4] = 0.61333333\n",
    "    return final_point"
   ]
  },
  {
   "cell_type": "markdown",
   "metadata": {},
   "source": [
    "Test block on random position with 30 trials"
   ]
  },
  {
   "cell_type": "code",
   "execution_count": 13,
   "metadata": {},
   "outputs": [
    {
     "name": "stderr",
     "output_type": "stream",
     "text": [
      "11037it [01:34, 223.74it/s]"
     ]
    },
    {
     "name": "stdout",
     "output_type": "stream",
     "text": [
      "Trajectory:  0 Success:  True\n"
     ]
    },
    {
     "name": "stderr",
     "output_type": "stream",
     "text": [
      "21967it [02:24, 223.32it/s]"
     ]
    },
    {
     "name": "stdout",
     "output_type": "stream",
     "text": [
      "Trajectory:  1 Success:  True\n"
     ]
    },
    {
     "name": "stderr",
     "output_type": "stream",
     "text": [
      "32869it [03:14, 221.98it/s]"
     ]
    },
    {
     "name": "stdout",
     "output_type": "stream",
     "text": [
      "Trajectory:  2 Success:  True\n"
     ]
    },
    {
     "name": "stderr",
     "output_type": "stream",
     "text": [
      "43797it [04:04, 222.60it/s]"
     ]
    },
    {
     "name": "stdout",
     "output_type": "stream",
     "text": [
      "Trajectory:  3 Success:  True\n"
     ]
    },
    {
     "name": "stderr",
     "output_type": "stream",
     "text": [
      "54722it [04:54, 222.96it/s]"
     ]
    },
    {
     "name": "stdout",
     "output_type": "stream",
     "text": [
      "Trajectory:  4 Success:  True\n"
     ]
    },
    {
     "name": "stderr",
     "output_type": "stream",
     "text": [
      "65647it [05:44, 222.41it/s]"
     ]
    },
    {
     "name": "stdout",
     "output_type": "stream",
     "text": [
      "Trajectory:  5 Success:  True\n"
     ]
    },
    {
     "name": "stderr",
     "output_type": "stream",
     "text": [
      "76549it [06:34, 221.52it/s]"
     ]
    },
    {
     "name": "stdout",
     "output_type": "stream",
     "text": [
      "Trajectory:  6 Success:  True\n"
     ]
    },
    {
     "name": "stderr",
     "output_type": "stream",
     "text": [
      "87474it [07:24, 222.70it/s]"
     ]
    },
    {
     "name": "stdout",
     "output_type": "stream",
     "text": [
      "Trajectory:  7 Success:  True\n"
     ]
    },
    {
     "name": "stderr",
     "output_type": "stream",
     "text": [
      "98400it [08:14, 222.84it/s]"
     ]
    },
    {
     "name": "stdout",
     "output_type": "stream",
     "text": [
      "Trajectory:  8 Success:  True\n",
      "b3Printf: b3Warning[examples/SharedMemory/PhysicsClientSharedMemory.cpp,1305]:\n",
      "\n",
      "b3Printf: User debug draw failed\n"
     ]
    },
    {
     "name": "stderr",
     "output_type": "stream",
     "text": [
      "109325it [09:04, 220.78it/s]"
     ]
    },
    {
     "name": "stdout",
     "output_type": "stream",
     "text": [
      "Trajectory:  9 Success:  True\n"
     ]
    },
    {
     "name": "stderr",
     "output_type": "stream",
     "text": [
      "120250it [09:54, 222.62it/s]"
     ]
    },
    {
     "name": "stdout",
     "output_type": "stream",
     "text": [
      "Trajectory:  10 Success:  True\n"
     ]
    },
    {
     "name": "stderr",
     "output_type": "stream",
     "text": [
      "131152it [10:43, 223.37it/s]"
     ]
    },
    {
     "name": "stdout",
     "output_type": "stream",
     "text": [
      "Trajectory:  11 Success:  True\n"
     ]
    },
    {
     "name": "stderr",
     "output_type": "stream",
     "text": [
      "142077it [11:33, 222.47it/s]"
     ]
    },
    {
     "name": "stdout",
     "output_type": "stream",
     "text": [
      "Trajectory:  12 Success:  True\n"
     ]
    },
    {
     "name": "stderr",
     "output_type": "stream",
     "text": [
      "153002it [12:22, 221.09it/s]"
     ]
    },
    {
     "name": "stdout",
     "output_type": "stream",
     "text": [
      "Trajectory:  13 Success:  True\n"
     ]
    },
    {
     "name": "stderr",
     "output_type": "stream",
     "text": [
      "163927it [13:12, 223.41it/s]"
     ]
    },
    {
     "name": "stdout",
     "output_type": "stream",
     "text": [
      "Trajectory:  14 Success:  True\n"
     ]
    },
    {
     "name": "stderr",
     "output_type": "stream",
     "text": [
      "174829it [14:01, 222.90it/s]"
     ]
    },
    {
     "name": "stdout",
     "output_type": "stream",
     "text": [
      "Trajectory:  15 Success:  True\n"
     ]
    },
    {
     "name": "stderr",
     "output_type": "stream",
     "text": [
      "185754it [14:51, 221.93it/s]"
     ]
    },
    {
     "name": "stdout",
     "output_type": "stream",
     "text": [
      "Trajectory:  16 Success:  True\n"
     ]
    },
    {
     "name": "stderr",
     "output_type": "stream",
     "text": [
      "196679it [15:41, 222.76it/s]"
     ]
    },
    {
     "name": "stdout",
     "output_type": "stream",
     "text": [
      "Trajectory:  17 Success:  True\n"
     ]
    },
    {
     "name": "stderr",
     "output_type": "stream",
     "text": [
      "207605it [16:30, 222.57it/s]"
     ]
    },
    {
     "name": "stdout",
     "output_type": "stream",
     "text": [
      "Trajectory:  18 Success:  True\n"
     ]
    },
    {
     "name": "stderr",
     "output_type": "stream",
     "text": [
      "218530it [17:20, 222.66it/s]"
     ]
    },
    {
     "name": "stdout",
     "output_type": "stream",
     "text": [
      "Trajectory:  19 Success:  True\n"
     ]
    },
    {
     "name": "stderr",
     "output_type": "stream",
     "text": [
      "229432it [18:09, 221.72it/s]"
     ]
    },
    {
     "name": "stdout",
     "output_type": "stream",
     "text": [
      "Trajectory:  20 Success:  True\n"
     ]
    },
    {
     "name": "stderr",
     "output_type": "stream",
     "text": [
      "240357it [18:59, 223.42it/s]"
     ]
    },
    {
     "name": "stdout",
     "output_type": "stream",
     "text": [
      "Trajectory:  21 Success:  True\n"
     ]
    },
    {
     "name": "stderr",
     "output_type": "stream",
     "text": [
      "251282it [19:49, 222.28it/s]"
     ]
    },
    {
     "name": "stdout",
     "output_type": "stream",
     "text": [
      "Trajectory:  22 Success:  True\n"
     ]
    },
    {
     "name": "stderr",
     "output_type": "stream",
     "text": [
      "262207it [20:38, 222.52it/s]"
     ]
    },
    {
     "name": "stdout",
     "output_type": "stream",
     "text": [
      "Trajectory:  23 Success:  True\n"
     ]
    },
    {
     "name": "stderr",
     "output_type": "stream",
     "text": [
      "273109it [21:28, 224.10it/s]"
     ]
    },
    {
     "name": "stdout",
     "output_type": "stream",
     "text": [
      "Trajectory:  24 Success:  True\n"
     ]
    },
    {
     "name": "stderr",
     "output_type": "stream",
     "text": [
      "284034it [22:17, 222.92it/s]"
     ]
    },
    {
     "name": "stdout",
     "output_type": "stream",
     "text": [
      "Trajectory:  25 Success:  True\n"
     ]
    },
    {
     "name": "stderr",
     "output_type": "stream",
     "text": [
      "294959it [23:07, 224.35it/s]"
     ]
    },
    {
     "name": "stdout",
     "output_type": "stream",
     "text": [
      "Trajectory:  26 Success:  True\n"
     ]
    },
    {
     "name": "stderr",
     "output_type": "stream",
     "text": [
      "305884it [23:57, 223.07it/s]"
     ]
    },
    {
     "name": "stdout",
     "output_type": "stream",
     "text": [
      "Trajectory:  27 Success:  True\n"
     ]
    },
    {
     "name": "stderr",
     "output_type": "stream",
     "text": [
      "316809it [24:47, 223.30it/s]"
     ]
    },
    {
     "name": "stdout",
     "output_type": "stream",
     "text": [
      "Trajectory:  28 Success:  True\n"
     ]
    },
    {
     "name": "stderr",
     "output_type": "stream",
     "text": [
      "327711it [25:36, 221.27it/s]"
     ]
    },
    {
     "name": "stdout",
     "output_type": "stream",
     "text": [
      "Trajectory:  29 Success:  True\n"
     ]
    },
    {
     "name": "stderr",
     "output_type": "stream",
     "text": [
      "327730it [25:50, 221.27it/s]"
     ]
    }
   ],
   "source": [
    "# --------------------- random block position --------------------------\n",
    "# reset the environment\n",
    "# store all the reaching trajectory\n",
    "tractories = []\n",
    "env.clean_traj_plot()\n",
    "env.step(push_demo[0])\n",
    "\n",
    "for num_traj in range(30):\n",
    "    block_position = np.array([0, 0, 0.04])\n",
    "    # random set the final postion of the block x- [0.5, 0.7], y- [-0.4, 0.4]\n",
    "    random_x = np.random.rand() * 0.2 + 0.5\n",
    "    random_y = (np.random.rand() - 0.5) * 0.8\n",
    "    block_position[0] = random_x\n",
    "    block_position[1] = random_y\n",
    "\n",
    "    # reset the block position\n",
    "    env.reset_block(pos = block_position, euler_angle=[0, 0, np.pi/2])\n",
    "    block_pos_sim = env.get_block_position()\n",
    "    # final position of end-effector\n",
    "    final_position = get_final_point(block_position)\n",
    "    # print(\"final position of end-effector: \", final_position)\n",
    "\n",
    "    # create trajectory from cVAE-dmp\n",
    "    robot_inial_pose = push_demo[0]\n",
    "    robot_end_pose = final_position.copy()\n",
    "    torch_inial_pose = torch.tensor(robot_inial_pose, dtype=torch.float32).to(device)\n",
    "    torch_end_pose = torch.tensor(robot_end_pose, dtype=torch.float32).to(device)\n",
    "    traj_gen.eval()\n",
    "    with torch.no_grad():\n",
    "        push_traj = traj_gen(class_idx=2, x0=torch_inial_pose, goal=torch_end_pose)\n",
    "    push_data = push_traj.cpu().numpy()[0]\n",
    "    env.traj_plot(push_data[:3,:].T)\n",
    "\n",
    "    # # execute the pushing trajectory\n",
    "    success = False\n",
    "    env.step(robot_inial_pose)\n",
    "    for i in range(push_data.shape[1]):\n",
    "        env.step(push_data[:, i])\n",
    "        if env.check_arrived(final_position[:3]):\n",
    "            success = True\n",
    "            break       \n",
    "        \n",
    "    # store the trajectory\n",
    "    tractories.append({\"traj\":push_data, \"success\":success, \"block_pose\":block_pos_sim})  \n",
    "    print(\"Trajectory: \", num_traj, \"Success: \", success)  "
   ]
  },
  {
   "cell_type": "code",
   "execution_count": 15,
   "metadata": {},
   "outputs": [
    {
     "name": "stdout",
     "output_type": "stream",
     "text": [
      "Success rate:  1.0\n"
     ]
    },
    {
     "data": {
      "text/plain": [
       "<matplotlib.collections.PathCollection at 0x71a2a3b02bb0>"
      ]
     },
     "execution_count": 15,
     "metadata": {},
     "output_type": "execute_result"
    },
    {
     "data": {
      "image/png": "[encoded data removed]",
      "text/plain": [
       "<Figure size 640x480 with 1 Axes>"
      ]
     },
     "metadata": {},
     "output_type": "display_data"
    }
   ],
   "source": [
    "# save the data\n",
    "np.savez(\"pushing_trajecotries.npz\", tractories=tractories)\n",
    "\n",
    "# print the success in the pushing\n",
    "success = 0\n",
    "for traj in tractories:\n",
    "    if traj[\"success\"]:\n",
    "        success += 1\n",
    "print(\"Success rate: \", success/len(tractories))\n",
    "\n",
    "# matplt plot the block position\n",
    "block_pos = []\n",
    "for traj in tractories:\n",
    "    block_pos.append(traj[\"block_pose\"])\n",
    "block_pos = np.array(block_pos)\n",
    "plt.scatter(block_pos[:,0], block_pos[:,1])"
   ]
  },
  {
   "cell_type": "markdown",
   "metadata": {},
   "source": [
    "2. fine-tuning the failure case"
   ]
  },
  {
   "cell_type": "code",
   "execution_count": null,
   "metadata": {},
   "outputs": [],
   "source": [
    "# fine-tune the via-point"
   ]
  },
  {
   "cell_type": "code",
   "execution_count": null,
   "metadata": {},
   "outputs": [],
   "source": [
    "# show all the trainable parameters\n",
    "for name, param in traj_gen.named_parameters():\n",
    "    print(f\"Parameter: {name}, Size: {param.size()}, Grad: {param.requires_grad}\")\n"
   ]
  },
  {
   "cell_type": "code",
   "execution_count": null,
   "metadata": {},
   "outputs": [],
   "source": [
    "def traj_loss(point, class_idx, x0, goal):\n",
    "    \"\"\"\n",
    "    point: (batch_size, n_dof) -- the via point must get through\n",
    "    class_idx: (batch_size, ) -- the class of trajectory\n",
    "    x0: (n_dof) -- the initial state of the trajectory\n",
    "    goal: (n_dof) -- the goal of the trajectory\n",
    "    \"\"\"\n",
    "    # unsqueeze the point to (batch_size, n_dof, 1)\n",
    "    point = point.unsqueeze(-1)\n",
    "    \n",
    "    if len(point.shape) == 2:\n",
    "        point = point.unsqueeze(0)\n",
    "\n",
    "    o_traj = traj_gen.generator(class_idx, x0, goal, d_type=\"old\")\n",
    "    n_traj = traj_gen.generator(class_idx, x0, goal, d_type=\"new\")\n",
    "    \n",
    "    # via point to the trajectory\n",
    "    p_loss = torch.min(torch.norm(n_traj - point, p=2, dim=1))\n",
    "    # trajectory shape loss\n",
    "    s_loss = torch.mean(torch.norm(o_traj - n_traj, p=2, dim=1))\n",
    "    # end position loss\n",
    "    e_loss = torch.norm(n_traj[:, :, -1] - goal, p=2, dim=1)\n",
    "    \n",
    "    return 0.2*e_loss + 0.2*p_loss + 0.6*s_loss"
   ]
  },
  {
   "cell_type": "code",
   "execution_count": null,
   "metadata": {},
   "outputs": [],
   "source": [
    "# fine-tune the trajectory to path through the via point\n",
    "robot_inial_pose = torch.tensor(robot_inial_pose, dtype=torch.float32).to(device)\n",
    "robot_end_pose = torch.tensor(robot_end_pose, dtype=torch.float32).to(device)\n",
    "via_point = torch.tensor(via_point.T).to(device)\n",
    "optimizer = torch.optim.Adam(filter(lambda p: p.requires_grad, traj_gen.parameters()), lr=0.01)\n",
    "epoch=500\n",
    "traj_gen.train()   # in training model\n",
    "for i in range(epoch):\n",
    "    optimizer.zero_grad()\n",
    "    loss = traj_loss(point=via_point, class_idx=2, x0=robot_inial_pose, goal=robot_end_pose)\n",
    "    loss.backward()\n",
    "    optimizer.step()\n",
    "\n",
    "    # print the loss every 100 epoch\n",
    "    if i % 20 == 0:\n",
    "        print('epoch: {}, loss: {}'.format(i, loss.item()))"
   ]
  },
  {
   "cell_type": "code",
   "execution_count": null,
   "metadata": {},
   "outputs": [],
   "source": [
    "# plot the fine-tuned trajectory\n",
    "traj_gen.eval()\n",
    "with torch.no_grad():\n",
    "    traj = traj_gen(class_idx=2, x0=robot_inial_pose, goal=robot_end_pose)    \n",
    "    # plot the generated torque\n",
    "    new_traj = traj.detach().cpu().numpy()[0]\n",
    "\n",
    "env.clean_traj_plot()\n",
    "env.traj_plot(new_traj[:3,:].T)\n",
    "env.traj_plot(push_data[:3,:].T, color=[1, 0, 0])"
   ]
  },
  {
   "cell_type": "code",
   "execution_count": null,
   "metadata": {},
   "outputs": [],
   "source": [
    "# plot the fine-tuned trajectory in x-z plane by matplotlib\n",
    "plt.figure()\n",
    "plt.plot(new_traj[0, :], new_traj[2, :], label=\"fine-tuned trajectory\")\n",
    "plt.plot(push_data[0, :], push_data[2, :], label=\"original trajectory\")\n",
    "plt.legend()\n",
    "plt.xlabel(\"x-axis\")\n",
    "plt.ylabel(\"z-axis\")\n",
    "plt.title(\"Trajectory in x-z plane\")\n",
    "# plot the via point\n",
    "via_point = via_point.cpu().numpy()\n",
    "plt.scatter(via_point[0], via_point[2], color='r', label=\"via point\")\n",
    "# plot the final position\n",
    "plt.scatter(final_position[0], final_position[2], color='g', label=\"final position\")\n"
   ]
  }
 ],
 "metadata": {
  "kernelspec": {
   "display_name": "robot_env",
   "language": "python",
   "name": "python3"
  },
  "language_info": {
   "codemirror_mode": {
    "name": "ipython",
    "version": 3
   },
   "file_extension": ".py",
   "mimetype": "text/x-python",
   "name": "python",
   "nbconvert_exporter": "python",
   "pygments_lexer": "ipython3",
   "version": "3.8.19"
  }
 },
 "nbformat": 4,
 "nbformat_minor": 2
}
