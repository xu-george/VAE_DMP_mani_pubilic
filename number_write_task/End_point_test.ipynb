{
 "cells": [
  {
   "cell_type": "markdown",
   "metadata": {},
   "source": [
    "Code to test the precision of the end point with dmp and cvae"
   ]
  },
  {
   "cell_type": "code",
   "execution_count": 2,
   "metadata": {},
   "outputs": [
    {
     "name": "stdout",
     "output_type": "stream",
     "text": [
      "/home/binzhao/Documents/code/VAE_DMP_mani/number_write_task\n"
     ]
    }
   ],
   "source": [
    "import os, time, tqdm, sys\n",
    "import torch.nn as nn\n",
    "import numpy as np\n",
    "import torch\n",
    "\n",
    "# add parent dictionary to path\n",
    "parent_dir = os.path.abspath(os.path.join(os.getcwd(), '..'))\n",
    "sys.path.append(parent_dir)\n",
    "\n",
    "from models.vae import TrajGen, DM\n",
    "from models.dmp import CanonicalSystem, SingleDMP\n",
    "from utils.data_loader import TorqueLoader as Torque_dataset\n",
    "from utils.early_stop import EarlyStop\n",
    "from matplotlib import pyplot as plt\n",
    "from collections import OrderedDict\n",
    "print(os.getcwd())\n",
    "device = torch.device('cuda' if torch.cuda.is_available() else 'cpu')"
   ]
  },
  {
   "cell_type": "code",
   "execution_count": 5,
   "metadata": {},
   "outputs": [
    {
     "name": "stdout",
     "output_type": "stream",
     "text": [
      "[177.77698 199.70993] [-185.02943 -183.50395]\n"
     ]
    }
   ],
   "source": [
    "# load the data set and the class to normalize the data\n",
    "# denormalize the torque\n",
    "run_time = 1\n",
    "dt = 0.01\n",
    "shape = (2, 100)\n",
    "# create dataset for training and testing\n",
    "cs = CanonicalSystem(dt=0.01, ax=1)\n",
    "dmp = SingleDMP(n_bfs=50, cs=cs, run_time=1.0, dt=0.01)\n",
    "\n",
    "\n",
    "train_dataset = Torque_dataset(run_time=1, dmp=dmp, dt=0.01, dof=2)\n",
    "train_dataset.load_data('../data/number_write/train_torque.npz', device=device)\n",
    "train_dataset.torque = train_dataset.normalize_data(device=device)\n",
    "\n",
    "#get normalize  paramters of data\n",
    "max = train_dataset.max.cpu().numpy()\n",
    "min = train_dataset.min.cpu().numpy()\n",
    "print(max, min)"
   ]
  },
  {
   "cell_type": "markdown",
   "metadata": {},
   "source": [
    "load the pretrain torque based trajectory generator (cVAE based)"
   ]
  },
  {
   "cell_type": "code",
   "execution_count": 6,
   "metadata": {},
   "outputs": [
    {
     "name": "stderr",
     "output_type": "stream",
     "text": [
      "/tmp/ipykernel_35052/1858532253.py:3: FutureWarning: You are using `torch.load` with `weights_only=False` (the current default value), which uses the default pickle module implicitly. It is possible to construct malicious pickle data which will execute arbitrary code during unpickling (See https://github.com/pytorch/pytorch/blob/main/SECURITY.md#untrusted-models for more details). In a future release, the default value for `weights_only` will be flipped to `True`. This limits the functions that could be executed during unpickling. Arbitrary objects will no longer be allowed to be loaded via this mode unless they are explicitly allowlisted by the user via `torch.serialization.add_safe_globals`. We recommend you start setting `weights_only=True` for any use case where you don't have full control of the loaded file. Please open an issue on GitHub for any issues related to this experimental feature.\n",
      "  checkpoint = torch.load(save_name, map_location=device)\n"
     ]
    }
   ],
   "source": [
    "# load the pretrained model\n",
    "save_name = \"cVAE_torque.pt\"\n",
    "checkpoint = torch.load(save_name, map_location=device)\n",
    "dict = checkpoint['net']"
   ]
  },
  {
   "cell_type": "code",
   "execution_count": 9,
   "metadata": {},
   "outputs": [],
   "source": [
    "# load the decoder part only -- generator\n",
    "decoder_param = OrderedDict() \n",
    "    \n",
    "key_word_1 = {\"decoder.\"}\n",
    "key_word_2 = {\"label_embedding.\"}\n",
    "\n",
    "for layer_name, param in checkpoint[\"net\"].items():\n",
    "    for key_word in key_word_1:\n",
    "        if key_word in layer_name:            \n",
    "            layer_name = layer_name.replace(key_word, \"\")            \n",
    "            decoder_param[layer_name] = param\n",
    "\n",
    "torch.save(decoder_param, \"../models/decoder.pt\")\n",
    "\n",
    "# save label encoder\n",
    "label_encoder_param = OrderedDict()\n",
    "for layer_name, param in checkpoint[\"net\"].items():\n",
    "    for key_word in key_word_2:\n",
    "        if key_word in layer_name:            \n",
    "            layer_name = layer_name.replace(key_word, \"\")            \n",
    "            label_encoder_param[layer_name] = param\n",
    "\n",
    "torch.save(label_encoder_param, \"../models/label_encoder.pt\")"
   ]
  },
  {
   "cell_type": "markdown",
   "metadata": {},
   "source": [
    "create trajecotr generator  --  decoder + dynamics systems"
   ]
  },
  {
   "cell_type": "code",
   "execution_count": 11,
   "metadata": {},
   "outputs": [
    {
     "name": "stderr",
     "output_type": "stream",
     "text": [
      "/tmp/ipykernel_35052/2391882050.py:9: FutureWarning: You are using `torch.load` with `weights_only=False` (the current default value), which uses the default pickle module implicitly. It is possible to construct malicious pickle data which will execute arbitrary code during unpickling (See https://github.com/pytorch/pytorch/blob/main/SECURITY.md#untrusted-models for more details). In a future release, the default value for `weights_only` will be flipped to `True`. This limits the functions that could be executed during unpickling. Arbitrary objects will no longer be allowed to be loaded via this mode unless they are explicitly allowlisted by the user via `torch.serialization.add_safe_globals`. We recommend you start setting `weights_only=True` for any use case where you don't have full control of the loaded file. Please open an issue on GitHub for any issues related to this experimental feature.\n",
      "  traj_gen.decoder_o.load_state_dict(torch.load('../models/decoder.pt'))\n",
      "/tmp/ipykernel_35052/2391882050.py:10: FutureWarning: You are using `torch.load` with `weights_only=False` (the current default value), which uses the default pickle module implicitly. It is possible to construct malicious pickle data which will execute arbitrary code during unpickling (See https://github.com/pytorch/pytorch/blob/main/SECURITY.md#untrusted-models for more details). In a future release, the default value for `weights_only` will be flipped to `True`. This limits the functions that could be executed during unpickling. Arbitrary objects will no longer be allowed to be loaded via this mode unless they are explicitly allowlisted by the user via `torch.serialization.add_safe_globals`. We recommend you start setting `weights_only=True` for any use case where you don't have full control of the loaded file. Please open an issue on GitHub for any issues related to this experimental feature.\n",
      "  traj_gen.decoder_n.load_state_dict(torch.load('../models/decoder.pt'))\n",
      "/tmp/ipykernel_35052/2391882050.py:11: FutureWarning: You are using `torch.load` with `weights_only=False` (the current default value), which uses the default pickle module implicitly. It is possible to construct malicious pickle data which will execute arbitrary code during unpickling (See https://github.com/pytorch/pytorch/blob/main/SECURITY.md#untrusted-models for more details). In a future release, the default value for `weights_only` will be flipped to `True`. This limits the functions that could be executed during unpickling. Arbitrary objects will no longer be allowed to be loaded via this mode unless they are explicitly allowlisted by the user via `torch.serialization.add_safe_globals`. We recommend you start setting `weights_only=True` for any use case where you don't have full control of the loaded file. Please open an issue on GitHub for any issues related to this experimental feature.\n",
      "  traj_gen.label_embedding.load_state_dict(torch.load('../models/label_encoder.pt'))\n"
     ]
    },
    {
     "data": {
      "text/plain": [
       "<All keys matched successfully>"
      ]
     },
     "execution_count": 11,
     "metadata": {},
     "output_type": "execute_result"
    }
   ],
   "source": [
    "shape = (2, 100)\n",
    "nclass=10\n",
    "nhid=8\n",
    "ncond=8\n",
    "traj_gen = TrajGen(shape=shape, nclass=nclass, nhid=nhid, ncond=ncond, min=min, max=max, device=device)\n",
    "# send to device\n",
    "traj_gen = traj_gen.to(device)\n",
    "# load model\n",
    "traj_gen.decoder_o.load_state_dict(torch.load('../models/decoder.pt'))\n",
    "traj_gen.decoder_n.load_state_dict(torch.load('../models/decoder.pt'))\n",
    "traj_gen.label_embedding.load_state_dict(torch.load('../models/label_encoder.pt'))"
   ]
  },
  {
   "cell_type": "code",
   "execution_count": 17,
   "metadata": {},
   "outputs": [
    {
     "data": {
      "image/png": "[encoded data removed]",
      "text/plain": [
       "<Figure size 640x480 with 1 Axes>"
      ]
     },
     "metadata": {},
     "output_type": "display_data"
    }
   ],
   "source": [
    "x0 = np.array([0, 1]).T\n",
    "goal = np.array([1, 0]).T\n",
    "plt.plot(x0[0], x0[1], 'go', label='start', markersize=10)\n",
    "plt.plot(goal[0], goal[1], 'ro', label='goal', markersize=10)\n",
    "\n",
    "goal_all = 0.3*(np.random.rand(50, 2) - 0.5) + goal\n",
    "plt.scatter(goal_all[:, 0], goal_all[:,1], color='b')\n",
    "\n",
    "number = 7\n",
    "traj_gen.eval()\n",
    "with torch.no_grad():\n",
    "    traj1 = traj_gen(number, x0=x0, goal=goal)   \n",
    "    # plot the generated torque\n",
    "np_traj1 = traj1.detach().cpu().numpy()\n",
    "\n",
    "plt.plot(np_traj1[0, 0, :].T, np_traj1[0, 1, :].T, linewidth=5)\n",
    "plt.tick_params(labelsize=30)\n",
    "plt.axis(\"equal\")\n",
    "# save the figure\n",
    "plt.savefig(\"traj_7.png\")\n",
    "plt.show()\n"
   ]
  },
  {
   "cell_type": "code",
   "execution_count": 192,
   "metadata": {},
   "outputs": [
    {
     "name": "stdout",
     "output_type": "stream",
     "text": [
      "0.015394177497466332\n"
     ]
    }
   ],
   "source": [
    "number = 2\n",
    "traj_gen.eval()\n",
    "with torch.no_grad():\n",
    "    error = []\n",
    "    for goal_t in goal_all:\n",
    "        traj1 = traj_gen(number, x0=x0, goal=goal_t)   \n",
    "        error.append(np.linalg.norm(traj1.detach().cpu().numpy()[0, :, -1] - goal_t))\n",
    "print(np.mean(error))"
   ]
  },
  {
   "cell_type": "code",
   "execution_count": 193,
   "metadata": {},
   "outputs": [
    {
     "data": {
      "image/png": "[encoded data removed]",
      "text/plain": [
       "<Figure size 640x480 with 1 Axes>"
      ]
     },
     "metadata": {},
     "output_type": "display_data"
    },
    {
     "name": "stdout",
     "output_type": "stream",
     "text": [
      "[0.14129101 0.07103915]\n"
     ]
    }
   ],
   "source": [
    "x0 = np.array([0, 1]).T\n",
    "goal = np.array([1, 0]).T\n",
    "number = 2\n",
    "\n",
    "# plot via point and start and goal\n",
    "plt.plot(x0[0], x0[1], 'go', label='start')\n",
    "plt.plot(goal[0], goal[1], 'ro', label='goal')\n",
    "\n",
    "\n",
    "traj_gen.eval()\n",
    "with torch.no_grad():\n",
    "    traj1 = traj_gen(number, x0=x0, goal=goal)  \n",
    "\n",
    "np_traj1 = traj1.detach().cpu().numpy()\n",
    "plt.plot(np_traj1[0, 0, :].T, np_traj1[0, 1, :].T, linewidth=2, color='gray')\n",
    "\n",
    "via_point = np_traj1[0, :, 50] - np.array([0.2,0.1])\n",
    "plt.plot(via_point[0], via_point[1], 'bo', label='via point')\n",
    "plt.tick_params(labelsize=20)\n",
    "plt.axis(\"equal\")\n",
    "plt.show()\n",
    "print(via_point)"
   ]
  },
  {
   "cell_type": "code",
   "execution_count": 194,
   "metadata": {},
   "outputs": [
    {
     "name": "stdout",
     "output_type": "stream",
     "text": [
      "Parameter: label_embedding.weight, Size: torch.Size([10, 8]), Grad: False\n",
      "Parameter: decoder_o.decode.0.mlp.Linear_0.weight, Size: torch.Size([64, 24]), Grad: False\n",
      "Parameter: decoder_o.decode.0.mlp.Linear_0.bias, Size: torch.Size([64]), Grad: False\n",
      "Parameter: decoder_o.decode.0.mlp.Linear_1.weight, Size: torch.Size([128, 64]), Grad: False\n",
      "Parameter: decoder_o.decode.0.mlp.Linear_1.bias, Size: torch.Size([128]), Grad: False\n",
      "Parameter: decoder_o.decode.0.mlp.Linear_2.weight, Size: torch.Size([200, 128]), Grad: False\n",
      "Parameter: decoder_o.decode.0.mlp.Linear_2.bias, Size: torch.Size([200]), Grad: False\n",
      "Parameter: decoder_n.decode.0.mlp.Linear_0.weight, Size: torch.Size([64, 24]), Grad: False\n",
      "Parameter: decoder_n.decode.0.mlp.Linear_0.bias, Size: torch.Size([64]), Grad: False\n",
      "Parameter: decoder_n.decode.0.mlp.Linear_1.weight, Size: torch.Size([128, 64]), Grad: True\n",
      "Parameter: decoder_n.decode.0.mlp.Linear_1.bias, Size: torch.Size([128]), Grad: True\n",
      "Parameter: decoder_n.decode.0.mlp.Linear_2.weight, Size: torch.Size([200, 128]), Grad: True\n",
      "Parameter: decoder_n.decode.0.mlp.Linear_2.bias, Size: torch.Size([200]), Grad: True\n"
     ]
    }
   ],
   "source": [
    "# show all the trainable parameters\n",
    "for name, param in traj_gen.named_parameters():\n",
    "    print(f\"Parameter: {name}, Size: {param.size()}, Grad: {param.requires_grad}\")"
   ]
  },
  {
   "cell_type": "markdown",
   "metadata": {},
   "source": [
    "retrain the decoder network to pass the via point "
   ]
  },
  {
   "cell_type": "code",
   "execution_count": 195,
   "metadata": {},
   "outputs": [],
   "source": [
    "def traj_loss(point, class_idx, x0, goal):\n",
    "    \"\"\"\n",
    "    point: (batch_size, n_dof) -- the via point must get through\n",
    "    class_idx: (batch_size, ) -- the class of trajectory\n",
    "    x0: (n_dof) -- the initial state of the trajectory\n",
    "    goal: (n_dof) -- the goal of the trajectory\n",
    "    \"\"\"\n",
    "    # unsqueeze the point to (batch_size, n_dof, 1)\n",
    "    point = point.unsqueeze(-1)\n",
    "    \n",
    "    if len(point.shape) == 2:\n",
    "        point = point.unsqueeze(0)\n",
    "\n",
    "    o_traj = traj_gen.generator(class_idx, x0, goal, d_type=\"old\")\n",
    "    n_traj = traj_gen.generator(class_idx, x0, goal, d_type=\"new\")\n",
    "    \n",
    "    # via point to the trajectory\n",
    "    p_loss = torch.min(torch.norm(n_traj - point, p=2, dim=1))\n",
    "    # trajectory shape loss\n",
    "    s_loss = torch.mean(torch.norm(o_traj - n_traj, p=2, dim=1))    \n",
    "    # end position loss\n",
    "    e_loss = torch.norm(n_traj[:, :, -1] - goal, p=2, dim=1)\n",
    "\n",
    "    print(\"s_loss:\", s_loss)\n",
    "    print(\"e_loss:\", e_loss)\n",
    "    print(\"p_loss:\", p_loss)\n",
    "    \n",
    "    return 0.2*e_loss + 0.2*p_loss + 0.6*s_loss"
   ]
  },
  {
   "cell_type": "code",
   "execution_count": 198,
   "metadata": {},
   "outputs": [
    {
     "name": "stdout",
     "output_type": "stream",
     "text": [
      "s_loss: tensor(0.0193, device='cuda:0', grad_fn=<MeanBackward0>)\n",
      "e_loss: tensor([0.0051], device='cuda:0', grad_fn=<LinalgVectorNormBackward0>)\n",
      "p_loss: tensor(0.0156, device='cuda:0', dtype=torch.float64, grad_fn=<MinBackward1>)\n",
      "epoch: 0, loss: 0.015745040029287338\n",
      "s_loss: tensor(0.1179, device='cuda:0', grad_fn=<MeanBackward0>)\n",
      "e_loss: tensor([0.1193], device='cuda:0', grad_fn=<LinalgVectorNormBackward0>)\n",
      "p_loss: tensor(0.0902, device='cuda:0', dtype=torch.float64, grad_fn=<MinBackward1>)\n",
      "s_loss: tensor(0.1042, device='cuda:0', grad_fn=<MeanBackward0>)\n",
      "e_loss: tensor([0.0948], device='cuda:0', grad_fn=<LinalgVectorNormBackward0>)\n",
      "p_loss: tensor(0.0732, device='cuda:0', dtype=torch.float64, grad_fn=<MinBackward1>)\n",
      "s_loss: tensor(0.0629, device='cuda:0', grad_fn=<MeanBackward0>)\n",
      "e_loss: tensor([0.0669], device='cuda:0', grad_fn=<LinalgVectorNormBackward0>)\n",
      "p_loss: tensor(0.0141, device='cuda:0', dtype=torch.float64, grad_fn=<MinBackward1>)\n",
      "s_loss: tensor(0.0446, device='cuda:0', grad_fn=<MeanBackward0>)\n",
      "e_loss: tensor([0.0573], device='cuda:0', grad_fn=<LinalgVectorNormBackward0>)\n",
      "p_loss: tensor(0.0108, device='cuda:0', dtype=torch.float64, grad_fn=<MinBackward1>)\n",
      "s_loss: tensor(0.0805, device='cuda:0', grad_fn=<MeanBackward0>)\n",
      "e_loss: tensor([0.0449], device='cuda:0', grad_fn=<LinalgVectorNormBackward0>)\n",
      "p_loss: tensor(0.0241, device='cuda:0', dtype=torch.float64, grad_fn=<MinBackward1>)\n",
      "s_loss: tensor(0.0906, device='cuda:0', grad_fn=<MeanBackward0>)\n",
      "e_loss: tensor([0.0479], device='cuda:0', grad_fn=<LinalgVectorNormBackward0>)\n",
      "p_loss: tensor(0.0220, device='cuda:0', dtype=torch.float64, grad_fn=<MinBackward1>)\n",
      "s_loss: tensor(0.0746, device='cuda:0', grad_fn=<MeanBackward0>)\n",
      "e_loss: tensor([0.0561], device='cuda:0', grad_fn=<LinalgVectorNormBackward0>)\n",
      "p_loss: tensor(0.0043, device='cuda:0', dtype=torch.float64, grad_fn=<MinBackward1>)\n",
      "s_loss: tensor(0.0501, device='cuda:0', grad_fn=<MeanBackward0>)\n",
      "e_loss: tensor([0.0475], device='cuda:0', grad_fn=<LinalgVectorNormBackward0>)\n",
      "p_loss: tensor(0.0188, device='cuda:0', dtype=torch.float64, grad_fn=<MinBackward1>)\n",
      "s_loss: tensor(0.0400, device='cuda:0', grad_fn=<MeanBackward0>)\n",
      "e_loss: tensor([0.0295], device='cuda:0', grad_fn=<LinalgVectorNormBackward0>)\n",
      "p_loss: tensor(0.0131, device='cuda:0', dtype=torch.float64, grad_fn=<MinBackward1>)\n",
      "s_loss: tensor(0.0573, device='cuda:0', grad_fn=<MeanBackward0>)\n",
      "e_loss: tensor([0.0306], device='cuda:0', grad_fn=<LinalgVectorNormBackward0>)\n",
      "p_loss: tensor(0.0255, device='cuda:0', dtype=torch.float64, grad_fn=<MinBackward1>)\n",
      "s_loss: tensor(0.0605, device='cuda:0', grad_fn=<MeanBackward0>)\n",
      "e_loss: tensor([0.0388], device='cuda:0', grad_fn=<LinalgVectorNormBackward0>)\n",
      "p_loss: tensor(0.0300, device='cuda:0', dtype=torch.float64, grad_fn=<MinBackward1>)\n",
      "s_loss: tensor(0.0528, device='cuda:0', grad_fn=<MeanBackward0>)\n",
      "e_loss: tensor([0.0388], device='cuda:0', grad_fn=<LinalgVectorNormBackward0>)\n",
      "p_loss: tensor(0.0198, device='cuda:0', dtype=torch.float64, grad_fn=<MinBackward1>)\n",
      "s_loss: tensor(0.0433, device='cuda:0', grad_fn=<MeanBackward0>)\n",
      "e_loss: tensor([0.0272], device='cuda:0', grad_fn=<LinalgVectorNormBackward0>)\n",
      "p_loss: tensor(0.0113, device='cuda:0', dtype=torch.float64, grad_fn=<MinBackward1>)\n",
      "s_loss: tensor(0.0409, device='cuda:0', grad_fn=<MeanBackward0>)\n",
      "e_loss: tensor([0.0106], device='cuda:0', grad_fn=<LinalgVectorNormBackward0>)\n",
      "p_loss: tensor(0.0092, device='cuda:0', dtype=torch.float64, grad_fn=<MinBackward1>)\n",
      "s_loss: tensor(0.0447, device='cuda:0', grad_fn=<MeanBackward0>)\n",
      "e_loss: tensor([0.0259], device='cuda:0', grad_fn=<LinalgVectorNormBackward0>)\n",
      "p_loss: tensor(0.0125, device='cuda:0', dtype=torch.float64, grad_fn=<MinBackward1>)\n",
      "s_loss: tensor(0.0411, device='cuda:0', grad_fn=<MeanBackward0>)\n",
      "e_loss: tensor([0.0366], device='cuda:0', grad_fn=<LinalgVectorNormBackward0>)\n",
      "p_loss: tensor(0.0212, device='cuda:0', dtype=torch.float64, grad_fn=<MinBackward1>)\n",
      "s_loss: tensor(0.0286, device='cuda:0', grad_fn=<MeanBackward0>)\n",
      "e_loss: tensor([0.0332], device='cuda:0', grad_fn=<LinalgVectorNormBackward0>)\n",
      "p_loss: tensor(0.0200, device='cuda:0', dtype=torch.float64, grad_fn=<MinBackward1>)\n",
      "s_loss: tensor(0.0227, device='cuda:0', grad_fn=<MeanBackward0>)\n",
      "e_loss: tensor([0.0188], device='cuda:0', grad_fn=<LinalgVectorNormBackward0>)\n",
      "p_loss: tensor(0.0024, device='cuda:0', dtype=torch.float64, grad_fn=<MinBackward1>)\n",
      "s_loss: tensor(0.0312, device='cuda:0', grad_fn=<MeanBackward0>)\n",
      "e_loss: tensor([0.0037], device='cuda:0', grad_fn=<LinalgVectorNormBackward0>)\n",
      "p_loss: tensor(0.0220, device='cuda:0', dtype=torch.float64, grad_fn=<MinBackward1>)\n",
      "s_loss: tensor(0.0275, device='cuda:0', grad_fn=<MeanBackward0>)\n",
      "e_loss: tensor([0.0172], device='cuda:0', grad_fn=<LinalgVectorNormBackward0>)\n",
      "p_loss: tensor(0.0234, device='cuda:0', dtype=torch.float64, grad_fn=<MinBackward1>)\n",
      "epoch: 20, loss: 0.02462005615234375\n",
      "s_loss: tensor(0.0219, device='cuda:0', grad_fn=<MeanBackward0>)\n",
      "e_loss: tensor([0.0256], device='cuda:0', grad_fn=<LinalgVectorNormBackward0>)\n",
      "p_loss: tensor(0.0152, device='cuda:0', dtype=torch.float64, grad_fn=<MinBackward1>)\n",
      "s_loss: tensor(0.0248, device='cuda:0', grad_fn=<MeanBackward0>)\n",
      "e_loss: tensor([0.0249], device='cuda:0', grad_fn=<LinalgVectorNormBackward0>)\n",
      "p_loss: tensor(0.0071, device='cuda:0', dtype=torch.float64, grad_fn=<MinBackward1>)\n",
      "s_loss: tensor(0.0278, device='cuda:0', grad_fn=<MeanBackward0>)\n",
      "e_loss: tensor([0.0158], device='cuda:0', grad_fn=<LinalgVectorNormBackward0>)\n",
      "p_loss: tensor(0.0068, device='cuda:0', dtype=torch.float64, grad_fn=<MinBackward1>)\n",
      "s_loss: tensor(0.0223, device='cuda:0', grad_fn=<MeanBackward0>)\n",
      "e_loss: tensor([0.0077], device='cuda:0', grad_fn=<LinalgVectorNormBackward0>)\n",
      "p_loss: tensor(0.0037, device='cuda:0', dtype=torch.float64, grad_fn=<MinBackward1>)\n",
      "s_loss: tensor(0.0213, device='cuda:0', grad_fn=<MeanBackward0>)\n",
      "e_loss: tensor([0.0135], device='cuda:0', grad_fn=<LinalgVectorNormBackward0>)\n",
      "p_loss: tensor(0.0132, device='cuda:0', dtype=torch.float64, grad_fn=<MinBackward1>)\n",
      "s_loss: tensor(0.0212, device='cuda:0', grad_fn=<MeanBackward0>)\n",
      "e_loss: tensor([0.0140], device='cuda:0', grad_fn=<LinalgVectorNormBackward0>)\n",
      "p_loss: tensor(0.0125, device='cuda:0', dtype=torch.float64, grad_fn=<MinBackward1>)\n",
      "s_loss: tensor(0.0191, device='cuda:0', grad_fn=<MeanBackward0>)\n",
      "e_loss: tensor([0.0085], device='cuda:0', grad_fn=<LinalgVectorNormBackward0>)\n",
      "p_loss: tensor(0.0026, device='cuda:0', dtype=torch.float64, grad_fn=<MinBackward1>)\n",
      "s_loss: tensor(0.0209, device='cuda:0', grad_fn=<MeanBackward0>)\n",
      "e_loss: tensor([0.0081], device='cuda:0', grad_fn=<LinalgVectorNormBackward0>)\n",
      "p_loss: tensor(0.0104, device='cuda:0', dtype=torch.float64, grad_fn=<MinBackward1>)\n",
      "s_loss: tensor(0.0202, device='cuda:0', grad_fn=<MeanBackward0>)\n",
      "e_loss: tensor([0.0079], device='cuda:0', grad_fn=<LinalgVectorNormBackward0>)\n",
      "p_loss: tensor(0.0117, device='cuda:0', dtype=torch.float64, grad_fn=<MinBackward1>)\n",
      "s_loss: tensor(0.0188, device='cuda:0', grad_fn=<MeanBackward0>)\n",
      "e_loss: tensor([0.0031], device='cuda:0', grad_fn=<LinalgVectorNormBackward0>)\n",
      "p_loss: tensor(0.0042, device='cuda:0', dtype=torch.float64, grad_fn=<MinBackward1>)\n",
      "s_loss: tensor(0.0150, device='cuda:0', grad_fn=<MeanBackward0>)\n",
      "e_loss: tensor([0.0083], device='cuda:0', grad_fn=<LinalgVectorNormBackward0>)\n",
      "p_loss: tensor(0.0055, device='cuda:0', dtype=torch.float64, grad_fn=<MinBackward1>)\n",
      "s_loss: tensor(0.0179, device='cuda:0', grad_fn=<MeanBackward0>)\n",
      "e_loss: tensor([0.0086], device='cuda:0', grad_fn=<LinalgVectorNormBackward0>)\n",
      "p_loss: tensor(0.0087, device='cuda:0', dtype=torch.float64, grad_fn=<MinBackward1>)\n",
      "s_loss: tensor(0.0175, device='cuda:0', grad_fn=<MeanBackward0>)\n",
      "e_loss: tensor([0.0021], device='cuda:0', grad_fn=<LinalgVectorNormBackward0>)\n",
      "p_loss: tensor(0.0026, device='cuda:0', dtype=torch.float64, grad_fn=<MinBackward1>)\n",
      "s_loss: tensor(0.0177, device='cuda:0', grad_fn=<MeanBackward0>)\n",
      "e_loss: tensor([0.0098], device='cuda:0', grad_fn=<LinalgVectorNormBackward0>)\n",
      "p_loss: tensor(0.0123, device='cuda:0', dtype=torch.float64, grad_fn=<MinBackward1>)\n",
      "s_loss: tensor(0.0184, device='cuda:0', grad_fn=<MeanBackward0>)\n",
      "e_loss: tensor([0.0109], device='cuda:0', grad_fn=<LinalgVectorNormBackward0>)\n",
      "p_loss: tensor(0.0181, device='cuda:0', dtype=torch.float64, grad_fn=<MinBackward1>)\n",
      "s_loss: tensor(0.0158, device='cuda:0', grad_fn=<MeanBackward0>)\n",
      "e_loss: tensor([0.0056], device='cuda:0', grad_fn=<LinalgVectorNormBackward0>)\n",
      "p_loss: tensor(0.0158, device='cuda:0', dtype=torch.float64, grad_fn=<MinBackward1>)\n",
      "s_loss: tensor(0.0160, device='cuda:0', grad_fn=<MeanBackward0>)\n",
      "e_loss: tensor([0.0070], device='cuda:0', grad_fn=<LinalgVectorNormBackward0>)\n",
      "p_loss: tensor(0.0068, device='cuda:0', dtype=torch.float64, grad_fn=<MinBackward1>)\n",
      "s_loss: tensor(0.0146, device='cuda:0', grad_fn=<MeanBackward0>)\n",
      "e_loss: tensor([0.0061], device='cuda:0', grad_fn=<LinalgVectorNormBackward0>)\n",
      "p_loss: tensor(0.0063, device='cuda:0', dtype=torch.float64, grad_fn=<MinBackward1>)\n",
      "s_loss: tensor(0.0197, device='cuda:0', grad_fn=<MeanBackward0>)\n",
      "e_loss: tensor([0.0038], device='cuda:0', grad_fn=<LinalgVectorNormBackward0>)\n",
      "p_loss: tensor(0.0118, device='cuda:0', dtype=torch.float64, grad_fn=<MinBackward1>)\n",
      "s_loss: tensor(0.0207, device='cuda:0', grad_fn=<MeanBackward0>)\n",
      "e_loss: tensor([0.0037], device='cuda:0', grad_fn=<LinalgVectorNormBackward0>)\n",
      "p_loss: tensor(0.0155, device='cuda:0', dtype=torch.float64, grad_fn=<MinBackward1>)\n",
      "epoch: 40, loss: 0.0162810031324625\n",
      "s_loss: tensor(0.0165, device='cuda:0', grad_fn=<MeanBackward0>)\n",
      "e_loss: tensor([0.0054], device='cuda:0', grad_fn=<LinalgVectorNormBackward0>)\n",
      "p_loss: tensor(0.0070, device='cuda:0', dtype=torch.float64, grad_fn=<MinBackward1>)\n",
      "s_loss: tensor(0.0153, device='cuda:0', grad_fn=<MeanBackward0>)\n",
      "e_loss: tensor([0.0059], device='cuda:0', grad_fn=<LinalgVectorNormBackward0>)\n",
      "p_loss: tensor(0.0047, device='cuda:0', dtype=torch.float64, grad_fn=<MinBackward1>)\n",
      "s_loss: tensor(0.0191, device='cuda:0', grad_fn=<MeanBackward0>)\n",
      "e_loss: tensor([0.0015], device='cuda:0', grad_fn=<LinalgVectorNormBackward0>)\n",
      "p_loss: tensor(0.0178, device='cuda:0', dtype=torch.float64, grad_fn=<MinBackward1>)\n",
      "s_loss: tensor(0.0210, device='cuda:0', grad_fn=<MeanBackward0>)\n",
      "e_loss: tensor([0.0038], device='cuda:0', grad_fn=<LinalgVectorNormBackward0>)\n",
      "p_loss: tensor(0.0262, device='cuda:0', dtype=torch.float64, grad_fn=<MinBackward1>)\n",
      "s_loss: tensor(0.0181, device='cuda:0', grad_fn=<MeanBackward0>)\n",
      "e_loss: tensor([0.0033], device='cuda:0', grad_fn=<LinalgVectorNormBackward0>)\n",
      "p_loss: tensor(0.0222, device='cuda:0', dtype=torch.float64, grad_fn=<MinBackward1>)\n",
      "s_loss: tensor(0.0126, device='cuda:0', grad_fn=<MeanBackward0>)\n",
      "e_loss: tensor([0.0019], device='cuda:0', grad_fn=<LinalgVectorNormBackward0>)\n",
      "p_loss: tensor(0.0085, device='cuda:0', dtype=torch.float64, grad_fn=<MinBackward1>)\n",
      "s_loss: tensor(0.0149, device='cuda:0', grad_fn=<MeanBackward0>)\n",
      "e_loss: tensor([0.0045], device='cuda:0', grad_fn=<LinalgVectorNormBackward0>)\n",
      "p_loss: tensor(0.0040, device='cuda:0', dtype=torch.float64, grad_fn=<MinBackward1>)\n",
      "s_loss: tensor(0.0208, device='cuda:0', grad_fn=<MeanBackward0>)\n",
      "e_loss: tensor([0.0044], device='cuda:0', grad_fn=<LinalgVectorNormBackward0>)\n",
      "p_loss: tensor(0.0129, device='cuda:0', dtype=torch.float64, grad_fn=<MinBackward1>)\n",
      "s_loss: tensor(0.0238, device='cuda:0', grad_fn=<MeanBackward0>)\n",
      "e_loss: tensor([0.0046], device='cuda:0', grad_fn=<LinalgVectorNormBackward0>)\n",
      "p_loss: tensor(0.0109, device='cuda:0', dtype=torch.float64, grad_fn=<MinBackward1>)\n",
      "s_loss: tensor(0.0213, device='cuda:0', grad_fn=<MeanBackward0>)\n",
      "e_loss: tensor([0.0024], device='cuda:0', grad_fn=<LinalgVectorNormBackward0>)\n",
      "p_loss: tensor(0.0045, device='cuda:0', dtype=torch.float64, grad_fn=<MinBackward1>)\n",
      "s_loss: tensor(0.0171, device='cuda:0', grad_fn=<MeanBackward0>)\n",
      "e_loss: tensor([0.0061], device='cuda:0', grad_fn=<LinalgVectorNormBackward0>)\n",
      "p_loss: tensor(0.0117, device='cuda:0', dtype=torch.float64, grad_fn=<MinBackward1>)\n",
      "s_loss: tensor(0.0165, device='cuda:0', grad_fn=<MeanBackward0>)\n",
      "e_loss: tensor([0.0060], device='cuda:0', grad_fn=<LinalgVectorNormBackward0>)\n",
      "p_loss: tensor(0.0159, device='cuda:0', dtype=torch.float64, grad_fn=<MinBackward1>)\n",
      "s_loss: tensor(0.0182, device='cuda:0', grad_fn=<MeanBackward0>)\n",
      "e_loss: tensor([0.0023], device='cuda:0', grad_fn=<LinalgVectorNormBackward0>)\n",
      "p_loss: tensor(0.0043, device='cuda:0', dtype=torch.float64, grad_fn=<MinBackward1>)\n",
      "s_loss: tensor(0.0188, device='cuda:0', grad_fn=<MeanBackward0>)\n",
      "e_loss: tensor([0.0049], device='cuda:0', grad_fn=<LinalgVectorNormBackward0>)\n",
      "p_loss: tensor(0.0069, device='cuda:0', dtype=torch.float64, grad_fn=<MinBackward1>)\n",
      "s_loss: tensor(0.0179, device='cuda:0', grad_fn=<MeanBackward0>)\n",
      "e_loss: tensor([0.0042], device='cuda:0', grad_fn=<LinalgVectorNormBackward0>)\n",
      "p_loss: tensor(0.0059, device='cuda:0', dtype=torch.float64, grad_fn=<MinBackward1>)\n",
      "s_loss: tensor(0.0188, device='cuda:0', grad_fn=<MeanBackward0>)\n",
      "e_loss: tensor([0.0016], device='cuda:0', grad_fn=<LinalgVectorNormBackward0>)\n",
      "p_loss: tensor(0.0077, device='cuda:0', dtype=torch.float64, grad_fn=<MinBackward1>)\n",
      "s_loss: tensor(0.0153, device='cuda:0', grad_fn=<MeanBackward0>)\n",
      "e_loss: tensor([0.0028], device='cuda:0', grad_fn=<LinalgVectorNormBackward0>)\n",
      "p_loss: tensor(0.0081, device='cuda:0', dtype=torch.float64, grad_fn=<MinBackward1>)\n",
      "s_loss: tensor(0.0131, device='cuda:0', grad_fn=<MeanBackward0>)\n",
      "e_loss: tensor([0.0014], device='cuda:0', grad_fn=<LinalgVectorNormBackward0>)\n",
      "p_loss: tensor(0.0090, device='cuda:0', dtype=torch.float64, grad_fn=<MinBackward1>)\n",
      "s_loss: tensor(0.0134, device='cuda:0', grad_fn=<MeanBackward0>)\n",
      "e_loss: tensor([0.0058], device='cuda:0', grad_fn=<LinalgVectorNormBackward0>)\n",
      "p_loss: tensor(0.0032, device='cuda:0', dtype=torch.float64, grad_fn=<MinBackward1>)\n",
      "s_loss: tensor(0.0155, device='cuda:0', grad_fn=<MeanBackward0>)\n",
      "e_loss: tensor([0.0073], device='cuda:0', grad_fn=<LinalgVectorNormBackward0>)\n",
      "p_loss: tensor(0.0050, device='cuda:0', dtype=torch.float64, grad_fn=<MinBackward1>)\n",
      "epoch: 60, loss: 0.011746522039175034\n",
      "s_loss: tensor(0.0181, device='cuda:0', grad_fn=<MeanBackward0>)\n",
      "e_loss: tensor([0.0042], device='cuda:0', grad_fn=<LinalgVectorNormBackward0>)\n",
      "p_loss: tensor(0.0051, device='cuda:0', dtype=torch.float64, grad_fn=<MinBackward1>)\n",
      "s_loss: tensor(0.0181, device='cuda:0', grad_fn=<MeanBackward0>)\n",
      "e_loss: tensor([0.0028], device='cuda:0', grad_fn=<LinalgVectorNormBackward0>)\n",
      "p_loss: tensor(0.0020, device='cuda:0', dtype=torch.float64, grad_fn=<MinBackward1>)\n",
      "s_loss: tensor(0.0168, device='cuda:0', grad_fn=<MeanBackward0>)\n",
      "e_loss: tensor([0.0013], device='cuda:0', grad_fn=<LinalgVectorNormBackward0>)\n",
      "p_loss: tensor(0.0116, device='cuda:0', dtype=torch.float64, grad_fn=<MinBackward1>)\n",
      "s_loss: tensor(0.0118, device='cuda:0', grad_fn=<MeanBackward0>)\n",
      "e_loss: tensor([0.0068], device='cuda:0', grad_fn=<LinalgVectorNormBackward0>)\n",
      "p_loss: tensor(0.0055, device='cuda:0', dtype=torch.float64, grad_fn=<MinBackward1>)\n",
      "s_loss: tensor(0.0160, device='cuda:0', grad_fn=<MeanBackward0>)\n",
      "e_loss: tensor([0.0058], device='cuda:0', grad_fn=<LinalgVectorNormBackward0>)\n",
      "p_loss: tensor(0.0108, device='cuda:0', dtype=torch.float64, grad_fn=<MinBackward1>)\n",
      "s_loss: tensor(0.0131, device='cuda:0', grad_fn=<MeanBackward0>)\n",
      "e_loss: tensor([0.0042], device='cuda:0', grad_fn=<LinalgVectorNormBackward0>)\n",
      "p_loss: tensor(0.0043, device='cuda:0', dtype=torch.float64, grad_fn=<MinBackward1>)\n",
      "s_loss: tensor(0.0167, device='cuda:0', grad_fn=<MeanBackward0>)\n",
      "e_loss: tensor([0.0086], device='cuda:0', grad_fn=<LinalgVectorNormBackward0>)\n",
      "p_loss: tensor(0.0047, device='cuda:0', dtype=torch.float64, grad_fn=<MinBackward1>)\n",
      "s_loss: tensor(0.0129, device='cuda:0', grad_fn=<MeanBackward0>)\n",
      "e_loss: tensor([0.0091], device='cuda:0', grad_fn=<LinalgVectorNormBackward0>)\n",
      "p_loss: tensor(0.0069, device='cuda:0', dtype=torch.float64, grad_fn=<MinBackward1>)\n",
      "s_loss: tensor(0.0124, device='cuda:0', grad_fn=<MeanBackward0>)\n",
      "e_loss: tensor([0.0027], device='cuda:0', grad_fn=<LinalgVectorNormBackward0>)\n",
      "p_loss: tensor(0.0085, device='cuda:0', dtype=torch.float64, grad_fn=<MinBackward1>)\n",
      "s_loss: tensor(0.0151, device='cuda:0', grad_fn=<MeanBackward0>)\n",
      "e_loss: tensor([0.0114], device='cuda:0', grad_fn=<LinalgVectorNormBackward0>)\n",
      "p_loss: tensor(0.0082, device='cuda:0', dtype=torch.float64, grad_fn=<MinBackward1>)\n",
      "s_loss: tensor(0.0126, device='cuda:0', grad_fn=<MeanBackward0>)\n",
      "e_loss: tensor([0.0123], device='cuda:0', grad_fn=<LinalgVectorNormBackward0>)\n",
      "p_loss: tensor(0.0011, device='cuda:0', dtype=torch.float64, grad_fn=<MinBackward1>)\n",
      "s_loss: tensor(0.0130, device='cuda:0', grad_fn=<MeanBackward0>)\n",
      "e_loss: tensor([0.0071], device='cuda:0', grad_fn=<LinalgVectorNormBackward0>)\n",
      "p_loss: tensor(0.0058, device='cuda:0', dtype=torch.float64, grad_fn=<MinBackward1>)\n",
      "s_loss: tensor(0.0131, device='cuda:0', grad_fn=<MeanBackward0>)\n",
      "e_loss: tensor([0.0039], device='cuda:0', grad_fn=<LinalgVectorNormBackward0>)\n",
      "p_loss: tensor(0.0051, device='cuda:0', dtype=torch.float64, grad_fn=<MinBackward1>)\n",
      "s_loss: tensor(0.0117, device='cuda:0', grad_fn=<MeanBackward0>)\n",
      "e_loss: tensor([0.0055], device='cuda:0', grad_fn=<LinalgVectorNormBackward0>)\n",
      "p_loss: tensor(0.0076, device='cuda:0', dtype=torch.float64, grad_fn=<MinBackward1>)\n",
      "s_loss: tensor(0.0127, device='cuda:0', grad_fn=<MeanBackward0>)\n",
      "e_loss: tensor([0.0032], device='cuda:0', grad_fn=<LinalgVectorNormBackward0>)\n",
      "p_loss: tensor(0.0076, device='cuda:0', dtype=torch.float64, grad_fn=<MinBackward1>)\n",
      "s_loss: tensor(0.0118, device='cuda:0', grad_fn=<MeanBackward0>)\n",
      "e_loss: tensor([0.0069], device='cuda:0', grad_fn=<LinalgVectorNormBackward0>)\n",
      "p_loss: tensor(0.0087, device='cuda:0', dtype=torch.float64, grad_fn=<MinBackward1>)\n",
      "s_loss: tensor(0.0117, device='cuda:0', grad_fn=<MeanBackward0>)\n",
      "e_loss: tensor([0.0076], device='cuda:0', grad_fn=<LinalgVectorNormBackward0>)\n",
      "p_loss: tensor(0.0066, device='cuda:0', dtype=torch.float64, grad_fn=<MinBackward1>)\n",
      "s_loss: tensor(0.0107, device='cuda:0', grad_fn=<MeanBackward0>)\n",
      "e_loss: tensor([0.0021], device='cuda:0', grad_fn=<LinalgVectorNormBackward0>)\n",
      "p_loss: tensor(0.0021, device='cuda:0', dtype=torch.float64, grad_fn=<MinBackward1>)\n",
      "s_loss: tensor(0.0168, device='cuda:0', grad_fn=<MeanBackward0>)\n",
      "e_loss: tensor([0.0025], device='cuda:0', grad_fn=<LinalgVectorNormBackward0>)\n",
      "p_loss: tensor(0.0100, device='cuda:0', dtype=torch.float64, grad_fn=<MinBackward1>)\n",
      "s_loss: tensor(0.0156, device='cuda:0', grad_fn=<MeanBackward0>)\n",
      "e_loss: tensor([0.0020], device='cuda:0', grad_fn=<LinalgVectorNormBackward0>)\n",
      "p_loss: tensor(0.0029, device='cuda:0', dtype=torch.float64, grad_fn=<MinBackward1>)\n",
      "epoch: 80, loss: 0.010352840647101402\n",
      "s_loss: tensor(0.0191, device='cuda:0', grad_fn=<MeanBackward0>)\n",
      "e_loss: tensor([0.0049], device='cuda:0', grad_fn=<LinalgVectorNormBackward0>)\n",
      "p_loss: tensor(0.0189, device='cuda:0', dtype=torch.float64, grad_fn=<MinBackward1>)\n",
      "s_loss: tensor(0.0164, device='cuda:0', grad_fn=<MeanBackward0>)\n",
      "e_loss: tensor([0.0003], device='cuda:0', grad_fn=<LinalgVectorNormBackward0>)\n",
      "p_loss: tensor(0.0163, device='cuda:0', dtype=torch.float64, grad_fn=<MinBackward1>)\n",
      "s_loss: tensor(0.0173, device='cuda:0', grad_fn=<MeanBackward0>)\n",
      "e_loss: tensor([0.0123], device='cuda:0', grad_fn=<LinalgVectorNormBackward0>)\n",
      "p_loss: tensor(0.0056, device='cuda:0', dtype=torch.float64, grad_fn=<MinBackward1>)\n",
      "s_loss: tensor(0.0171, device='cuda:0', grad_fn=<MeanBackward0>)\n",
      "e_loss: tensor([0.0123], device='cuda:0', grad_fn=<LinalgVectorNormBackward0>)\n",
      "p_loss: tensor(0.0072, device='cuda:0', dtype=torch.float64, grad_fn=<MinBackward1>)\n",
      "s_loss: tensor(0.0143, device='cuda:0', grad_fn=<MeanBackward0>)\n",
      "e_loss: tensor([0.0028], device='cuda:0', grad_fn=<LinalgVectorNormBackward0>)\n",
      "p_loss: tensor(0.0086, device='cuda:0', dtype=torch.float64, grad_fn=<MinBackward1>)\n",
      "s_loss: tensor(0.0148, device='cuda:0', grad_fn=<MeanBackward0>)\n",
      "e_loss: tensor([0.0095], device='cuda:0', grad_fn=<LinalgVectorNormBackward0>)\n",
      "p_loss: tensor(0.0051, device='cuda:0', dtype=torch.float64, grad_fn=<MinBackward1>)\n",
      "s_loss: tensor(0.0162, device='cuda:0', grad_fn=<MeanBackward0>)\n",
      "e_loss: tensor([0.0093], device='cuda:0', grad_fn=<LinalgVectorNormBackward0>)\n",
      "p_loss: tensor(0.0155, device='cuda:0', dtype=torch.float64, grad_fn=<MinBackward1>)\n",
      "s_loss: tensor(0.0148, device='cuda:0', grad_fn=<MeanBackward0>)\n",
      "e_loss: tensor([0.0043], device='cuda:0', grad_fn=<LinalgVectorNormBackward0>)\n",
      "p_loss: tensor(0.0168, device='cuda:0', dtype=torch.float64, grad_fn=<MinBackward1>)\n",
      "s_loss: tensor(0.0158, device='cuda:0', grad_fn=<MeanBackward0>)\n",
      "e_loss: tensor([0.0036], device='cuda:0', grad_fn=<LinalgVectorNormBackward0>)\n",
      "p_loss: tensor(0.0065, device='cuda:0', dtype=torch.float64, grad_fn=<MinBackward1>)\n",
      "s_loss: tensor(0.0165, device='cuda:0', grad_fn=<MeanBackward0>)\n",
      "e_loss: tensor([0.0048], device='cuda:0', grad_fn=<LinalgVectorNormBackward0>)\n",
      "p_loss: tensor(0.0072, device='cuda:0', dtype=torch.float64, grad_fn=<MinBackward1>)\n",
      "s_loss: tensor(0.0112, device='cuda:0', grad_fn=<MeanBackward0>)\n",
      "e_loss: tensor([0.0028], device='cuda:0', grad_fn=<LinalgVectorNormBackward0>)\n",
      "p_loss: tensor(0.0134, device='cuda:0', dtype=torch.float64, grad_fn=<MinBackward1>)\n",
      "s_loss: tensor(0.0120, device='cuda:0', grad_fn=<MeanBackward0>)\n",
      "e_loss: tensor([0.0066], device='cuda:0', grad_fn=<LinalgVectorNormBackward0>)\n",
      "p_loss: tensor(0.0147, device='cuda:0', dtype=torch.float64, grad_fn=<MinBackward1>)\n",
      "s_loss: tensor(0.0130, device='cuda:0', grad_fn=<MeanBackward0>)\n",
      "e_loss: tensor([0.0053], device='cuda:0', grad_fn=<LinalgVectorNormBackward0>)\n",
      "p_loss: tensor(0.0036, device='cuda:0', dtype=torch.float64, grad_fn=<MinBackward1>)\n",
      "s_loss: tensor(0.0164, device='cuda:0', grad_fn=<MeanBackward0>)\n",
      "e_loss: tensor([0.0038], device='cuda:0', grad_fn=<LinalgVectorNormBackward0>)\n",
      "p_loss: tensor(0.0049, device='cuda:0', dtype=torch.float64, grad_fn=<MinBackward1>)\n",
      "s_loss: tensor(0.0104, device='cuda:0', grad_fn=<MeanBackward0>)\n",
      "e_loss: tensor([0.0046], device='cuda:0', grad_fn=<LinalgVectorNormBackward0>)\n",
      "p_loss: tensor(0.0076, device='cuda:0', dtype=torch.float64, grad_fn=<MinBackward1>)\n",
      "s_loss: tensor(0.0105, device='cuda:0', grad_fn=<MeanBackward0>)\n",
      "e_loss: tensor([0.0033], device='cuda:0', grad_fn=<LinalgVectorNormBackward0>)\n",
      "p_loss: tensor(0.0063, device='cuda:0', dtype=torch.float64, grad_fn=<MinBackward1>)\n",
      "s_loss: tensor(0.0152, device='cuda:0', grad_fn=<MeanBackward0>)\n",
      "e_loss: tensor([0.0057], device='cuda:0', grad_fn=<LinalgVectorNormBackward0>)\n",
      "p_loss: tensor(0.0073, device='cuda:0', dtype=torch.float64, grad_fn=<MinBackward1>)\n",
      "s_loss: tensor(0.0102, device='cuda:0', grad_fn=<MeanBackward0>)\n",
      "e_loss: tensor([0.0022], device='cuda:0', grad_fn=<LinalgVectorNormBackward0>)\n",
      "p_loss: tensor(0.0012, device='cuda:0', dtype=torch.float64, grad_fn=<MinBackward1>)\n",
      "s_loss: tensor(0.0127, device='cuda:0', grad_fn=<MeanBackward0>)\n",
      "e_loss: tensor([0.0057], device='cuda:0', grad_fn=<LinalgVectorNormBackward0>)\n",
      "p_loss: tensor(0.0062, device='cuda:0', dtype=torch.float64, grad_fn=<MinBackward1>)\n"
     ]
    }
   ],
   "source": [
    "number = 2\n",
    "x0 = torch.tensor(np.array([0, 1]).T).to(device)\n",
    "goal= torch.tensor(np.array([1, 0]).T).to(device)\n",
    "\n",
    "via_point = torch.tensor(via_point).to(device)\n",
    "\n",
    "optimizer = torch.optim.Adam(filter(lambda p: p.requires_grad, traj_gen.parameters()), lr=0.01)\n",
    "epoch=100\n",
    "\n",
    "traj_gen.train()   # in training model\n",
    "for i in range(epoch):\n",
    "    optimizer.zero_grad()\n",
    "    loss = traj_loss(point=via_point, class_idx=number, x0=x0, goal=goal)\n",
    "    loss.backward()\n",
    "    optimizer.step()\n",
    "\n",
    "    # print the loss every 100 epoch\n",
    "    if i % 20 == 0:\n",
    "        print('epoch: {}, loss: {}'.format(i, loss.item()))\n",
    "\n",
    "x0 = x0.cpu().numpy()\n",
    "goal = goal.cpu().numpy()\n",
    "via_point = via_point.cpu().numpy()"
   ]
  },
  {
   "cell_type": "markdown",
   "metadata": {},
   "source": [
    "plot the trajectory after retain"
   ]
  },
  {
   "cell_type": "code",
   "execution_count": 199,
   "metadata": {},
   "outputs": [
    {
     "data": {
      "text/plain": [
       "(-0.050252622365951544,\n",
       " 1.0553050696849824,\n",
       " -0.05334093401907012,\n",
       " 1.050159092096146)"
      ]
     },
     "execution_count": 199,
     "metadata": {},
     "output_type": "execute_result"
    },
    {
     "data": {
      "image/png": "[encoded data removed]",
      "text/plain": [
       "<Figure size 640x480 with 1 Axes>"
      ]
     },
     "metadata": {},
     "output_type": "display_data"
    }
   ],
   "source": [
    "number = 2\n",
    "\n",
    "plt.plot(x0[0], x0[1], 'go', label='start', markersize=10)\n",
    "plt.plot(goal[0], goal[1], 'ro', label='goal', markersize=10)\n",
    "plt.plot(via_point[0], via_point[1], 'bo', label='via point')\n",
    "\n",
    "traj_gen.eval()\n",
    "with torch.no_grad():\n",
    "    traj = traj_gen(number, x0=x0, goal=goal)    \n",
    "    # plot the generated torque\n",
    "    new_traj = traj.detach().cpu().numpy()\n",
    "    \n",
    "plt.plot(new_traj[0, 0, :].T, new_traj[0, 1, :].T, color='purple', linewidth=2)\n",
    "plt.plot(np_traj1[0, 0, :].T, np_traj1[0, 1, :].T, color='gray', label='generated torque')\n",
    "plt.tick_params(labelsize=20)\n",
    "plt.axis(\"equal\")"
   ]
  }
 ],
 "metadata": {
  "kernelspec": {
   "display_name": "robot_env",
   "language": "python",
   "name": "python3"
  },
  "language_info": {
   "codemirror_mode": {
    "name": "ipython",
    "version": 3
   },
   "file_extension": ".py",
   "mimetype": "text/x-python",
   "name": "python",
   "nbconvert_exporter": "python",
   "pygments_lexer": "ipython3",
   "version": "3.8.19"
  },
  "orig_nbformat": 4
 },
 "nbformat": 4,
 "nbformat_minor": 2
}
