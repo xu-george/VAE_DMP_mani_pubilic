{
 "cells": [
  {
   "cell_type": "markdown",
   "metadata": {},
   "source": [
    "Composite frames of image to show the trajectory of each task "
   ]
  },
  {
   "cell_type": "code",
   "execution_count": 11,
   "metadata": {},
   "outputs": [],
   "source": [
    "import numpy as np\n",
    "from PIL import Image, ImageChops, ImageEnhance"
   ]
  },
  {
   "cell_type": "code",
   "execution_count": 26,
   "metadata": {},
   "outputs": [
    {
     "name": "stdout",
     "output_type": "stream",
     "text": [
      "<class 'PIL.PngImagePlugin.PngImageFile'>\n",
      "<class 'numpy.ndarray'>\n"
     ]
    }
   ],
   "source": [
    "# select important frame from the image\n",
    "img_1 = Image.open('./task_3/image_0.png')\n",
    "img_2 = Image.open('./task_3/image_22.png')\n",
    "seg_1 = np.load('./task_3/seg_index_0.npy')\n",
    "seg_2 = np.load('./task_3/seg_index_22.npy')\n",
    "\n",
    "images = [img_1, img_2]\n",
    "masks=[seg_1, seg_2]\n",
    "\n",
    "print(type(img_1))\n",
    "print(type(seg_1))"
   ]
  },
  {
   "cell_type": "code",
   "execution_count": 27,
   "metadata": {},
   "outputs": [],
   "source": [
    "# robot arm value is 1 in the segmentation image\n",
    "# background value is 0 in the segmentation image\n",
    "# we can use the segmentation image to extract the robot arm\n",
    "def combine_images_with_composite_for_arm(images, masks, arm_index=1, box_index=3, alpha_start=0.5, alpha_end=1.0):\n",
    "    \"\"\"\n",
    "    Combines multiple images, selectively using the segments corresponding to the robotic arm.\n",
    "\n",
    "    Args:\n",
    "    - images (list of Image): List of PIL Image objects to combine.\n",
    "    - masks (list of np.array): List of grayscale masks corresponding to the images, where the robotic arm has index `arm_index`.\n",
    "    - arm_index (int): The index value in the mask representing the robotic arm.\n",
    "    - alpha_start (float): Starting alpha value for the first image. Must be between 0.0 and 1.0.\n",
    "    - alpha_end (float): Ending alpha value for the last image. Must be between 0.0 and 1.0.\n",
    "\n",
    "    Returns:\n",
    "    - Image: The combined image with only the robotic arm segments.\n",
    "    \"\"\"\n",
    "    if len(images) == 0 or len(masks) == 0:\n",
    "        raise ValueError(\"The list of images or masks is empty.\")\n",
    "    if len(images) != len(masks):\n",
    "        raise ValueError(\"The number of images and masks must be the same.\")\n",
    "    \n",
    "    # Ensure alpha values are valid\n",
    "    if not (0.0 <= alpha_start <= 1.0) or not (0.0 <= alpha_end <= 1.0):\n",
    "        raise ValueError(\"Alpha values must be between 0.0 and 1.0.\")\n",
    "\n",
    "    # Calculate the alpha increment step\n",
    "    alpha_step = (alpha_end - alpha_start) / (len(images) - 1)\n",
    "\n",
    "    # Start with a transparent base image\n",
    "    base_image = images[0].convert(\"RGBA\")\n",
    "\n",
    "    # Iterate over the images with increasing alpha\n",
    "    current_alpha = alpha_start\n",
    "    for img, mask in zip(images[1:], masks[1:]):\n",
    "        img = img.convert(\"RGBA\")        \n",
    "\n",
    "        # Create a mask where the robot arm's index is 1 and block mask is 3\n",
    "        arm_mask = (mask == arm_index).astype(np.uint8) * 255\n",
    "        box_mask = (mask == box_index).astype(np.uint8) * 255\n",
    "\n",
    "        mask = Image.fromarray(arm_mask+box_mask, \"L\")\n",
    "\n",
    "        # Apply the transparency to the mask\n",
    "        alpha_mask = ImageEnhance.Brightness(mask).enhance(current_alpha)\n",
    "\n",
    "        # Composite the current image (only arm) onto the base image using the mask\n",
    "        base_image = Image.composite(img, base_image, alpha_mask)\n",
    "        \n",
    "        # Increment the alpha value for the next image\n",
    "        current_alpha += alpha_step\n",
    "\n",
    "    return base_image\n"
   ]
  },
  {
   "cell_type": "code",
   "execution_count": 28,
   "metadata": {},
   "outputs": [
    {
     "name": "stderr",
     "output_type": "stream",
     "text": [
      "** Message: 11:20:08.623: main.vala:507: Starting session with system profile\n"
     ]
    }
   ],
   "source": [
    "combined_image = combine_images_with_composite_for_arm(images, masks, arm_index=1, alpha_start=1, alpha_end=0.4)\n",
    "combined_image.save(\"grasping_task.png\")\n",
    "combined_image.show()"
   ]
  }
 ],
 "metadata": {
  "kernelspec": {
   "display_name": "robo_env",
   "language": "python",
   "name": "python3"
  },
  "language_info": {
   "codemirror_mode": {
    "name": "ipython",
    "version": 3
   },
   "file_extension": ".py",
   "mimetype": "text/x-python",
   "name": "python",
   "nbconvert_exporter": "python",
   "pygments_lexer": "ipython3",
   "version": "3.8.19"
  }
 },
 "nbformat": 4,
 "nbformat_minor": 2
}
